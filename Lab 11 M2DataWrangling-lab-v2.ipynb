{
 "cells": [
  {
   "cell_type": "markdown",
   "metadata": {},
   "source": [
    "<p style=\"text-align:center\">\n",
    "    <a href=\"https://skills.network\" target=\"_blank\">\n",
    "    <img src=\"https://cf-courses-data.s3.us.cloud-object-storage.appdomain.cloud/assets/logos/SN_web_lightmode.png\" width=\"200\" alt=\"Skills Network Logo\"  />\n",
    "    </a>\n",
    "</p>\n"
   ]
  },
  {
   "cell_type": "markdown",
   "metadata": {},
   "source": [
    "# **Data Wrangling Lab**\n"
   ]
  },
  {
   "cell_type": "markdown",
   "metadata": {},
   "source": [
    "Estimated time needed: **45** minutes\n"
   ]
  },
  {
   "cell_type": "markdown",
   "metadata": {},
   "source": [
    "In this lab, you will perform data wrangling tasks to prepare raw data for analysis. Data wrangling involves cleaning, transforming, and organizing data into a structured format suitable for analysis. This lab focuses on tasks like identifying inconsistencies, encoding categorical variables, and feature transformation.\n"
   ]
  },
  {
   "cell_type": "markdown",
   "metadata": {},
   "source": [
    "## Objectives\n"
   ]
  },
  {
   "cell_type": "markdown",
   "metadata": {},
   "source": [
    "After completing this lab, you will be able to:\n"
   ]
  },
  {
   "cell_type": "markdown",
   "metadata": {},
   "source": [
    "- Identify and remove inconsistent data entries.\n",
    "\n",
    "- Encode categorical variables for analysis.\n",
    "\n",
    "- Handle missing values using multiple imputation strategies.\n",
    "\n",
    "- Apply feature scaling and transformation techniques.\n"
   ]
  },
  {
   "cell_type": "markdown",
   "metadata": {},
   "source": [
    "#### Intsall the required libraries\n"
   ]
  },
  {
   "cell_type": "code",
   "execution_count": 100,
   "metadata": {},
   "outputs": [
    {
     "name": "stdout",
     "output_type": "stream",
     "text": [
      "Requirement already satisfied: pandas in /opt/conda/lib/python3.12/site-packages (2.2.3)\n",
      "Requirement already satisfied: numpy>=1.26.0 in /opt/conda/lib/python3.12/site-packages (from pandas) (2.2.5)\n",
      "Requirement already satisfied: python-dateutil>=2.8.2 in /opt/conda/lib/python3.12/site-packages (from pandas) (2.9.0.post0)\n",
      "Requirement already satisfied: pytz>=2020.1 in /opt/conda/lib/python3.12/site-packages (from pandas) (2024.2)\n",
      "Requirement already satisfied: tzdata>=2022.7 in /opt/conda/lib/python3.12/site-packages (from pandas) (2025.2)\n",
      "Requirement already satisfied: six>=1.5 in /opt/conda/lib/python3.12/site-packages (from python-dateutil>=2.8.2->pandas) (1.17.0)\n",
      "Requirement already satisfied: matplotlib in /opt/conda/lib/python3.12/site-packages (3.10.3)\n",
      "Requirement already satisfied: contourpy>=1.0.1 in /opt/conda/lib/python3.12/site-packages (from matplotlib) (1.3.2)\n",
      "Requirement already satisfied: cycler>=0.10 in /opt/conda/lib/python3.12/site-packages (from matplotlib) (0.12.1)\n",
      "Requirement already satisfied: fonttools>=4.22.0 in /opt/conda/lib/python3.12/site-packages (from matplotlib) (4.58.0)\n",
      "Requirement already satisfied: kiwisolver>=1.3.1 in /opt/conda/lib/python3.12/site-packages (from matplotlib) (1.4.8)\n",
      "Requirement already satisfied: numpy>=1.23 in /opt/conda/lib/python3.12/site-packages (from matplotlib) (2.2.5)\n",
      "Requirement already satisfied: packaging>=20.0 in /opt/conda/lib/python3.12/site-packages (from matplotlib) (24.2)\n",
      "Requirement already satisfied: pillow>=8 in /opt/conda/lib/python3.12/site-packages (from matplotlib) (11.2.1)\n",
      "Requirement already satisfied: pyparsing>=2.3.1 in /opt/conda/lib/python3.12/site-packages (from matplotlib) (3.2.3)\n",
      "Requirement already satisfied: python-dateutil>=2.7 in /opt/conda/lib/python3.12/site-packages (from matplotlib) (2.9.0.post0)\n",
      "Requirement already satisfied: six>=1.5 in /opt/conda/lib/python3.12/site-packages (from python-dateutil>=2.7->matplotlib) (1.17.0)\n",
      "Requirement already satisfied: numpy in /opt/conda/lib/python3.12/site-packages (2.2.5)\n",
      "Collecting seaborn\n",
      "  Downloading seaborn-0.13.2-py3-none-any.whl.metadata (5.4 kB)\n",
      "Requirement already satisfied: numpy!=1.24.0,>=1.20 in /opt/conda/lib/python3.12/site-packages (from seaborn) (2.2.5)\n",
      "Requirement already satisfied: pandas>=1.2 in /opt/conda/lib/python3.12/site-packages (from seaborn) (2.2.3)\n",
      "Requirement already satisfied: matplotlib!=3.6.1,>=3.4 in /opt/conda/lib/python3.12/site-packages (from seaborn) (3.10.3)\n",
      "Requirement already satisfied: contourpy>=1.0.1 in /opt/conda/lib/python3.12/site-packages (from matplotlib!=3.6.1,>=3.4->seaborn) (1.3.2)\n",
      "Requirement already satisfied: cycler>=0.10 in /opt/conda/lib/python3.12/site-packages (from matplotlib!=3.6.1,>=3.4->seaborn) (0.12.1)\n",
      "Requirement already satisfied: fonttools>=4.22.0 in /opt/conda/lib/python3.12/site-packages (from matplotlib!=3.6.1,>=3.4->seaborn) (4.58.0)\n",
      "Requirement already satisfied: kiwisolver>=1.3.1 in /opt/conda/lib/python3.12/site-packages (from matplotlib!=3.6.1,>=3.4->seaborn) (1.4.8)\n",
      "Requirement already satisfied: packaging>=20.0 in /opt/conda/lib/python3.12/site-packages (from matplotlib!=3.6.1,>=3.4->seaborn) (24.2)\n",
      "Requirement already satisfied: pillow>=8 in /opt/conda/lib/python3.12/site-packages (from matplotlib!=3.6.1,>=3.4->seaborn) (11.2.1)\n",
      "Requirement already satisfied: pyparsing>=2.3.1 in /opt/conda/lib/python3.12/site-packages (from matplotlib!=3.6.1,>=3.4->seaborn) (3.2.3)\n",
      "Requirement already satisfied: python-dateutil>=2.7 in /opt/conda/lib/python3.12/site-packages (from matplotlib!=3.6.1,>=3.4->seaborn) (2.9.0.post0)\n",
      "Requirement already satisfied: pytz>=2020.1 in /opt/conda/lib/python3.12/site-packages (from pandas>=1.2->seaborn) (2024.2)\n",
      "Requirement already satisfied: tzdata>=2022.7 in /opt/conda/lib/python3.12/site-packages (from pandas>=1.2->seaborn) (2025.2)\n",
      "Requirement already satisfied: six>=1.5 in /opt/conda/lib/python3.12/site-packages (from python-dateutil>=2.7->matplotlib!=3.6.1,>=3.4->seaborn) (1.17.0)\n",
      "Downloading seaborn-0.13.2-py3-none-any.whl (294 kB)\n",
      "Installing collected packages: seaborn\n",
      "Successfully installed seaborn-0.13.2\n"
     ]
    }
   ],
   "source": [
    "!pip install pandas\n",
    "!pip install matplotlib\n",
    "!pip install numpy \n",
    "!pip install seaborn"
   ]
  },
  {
   "cell_type": "code",
   "execution_count": 101,
   "metadata": {},
   "outputs": [],
   "source": [
    "import matplotlib.pyplot as plt\n",
    "import numpy as np\n",
    "import seaborn as sns"
   ]
  },
  {
   "cell_type": "markdown",
   "metadata": {},
   "source": [
    "## Tasks\n"
   ]
  },
  {
   "cell_type": "markdown",
   "metadata": {},
   "source": [
    "#### Step 1: Import the necessary module.\n"
   ]
  },
  {
   "cell_type": "markdown",
   "metadata": {},
   "source": [
    "### 1. Load the Dataset\n"
   ]
  },
  {
   "cell_type": "markdown",
   "metadata": {},
   "source": [
    "<h5>1.1 Import necessary libraries and load the dataset.</h5>\n"
   ]
  },
  {
   "cell_type": "markdown",
   "metadata": {},
   "source": [
    "Ensure the dataset is loaded correctly by displaying the first few rows.\n"
   ]
  },
  {
   "cell_type": "code",
   "execution_count": 102,
   "metadata": {},
   "outputs": [
    {
     "name": "stdout",
     "output_type": "stream",
     "text": [
      "   ResponseId                      MainBranch                 Age  \\\n",
      "0           1  I am a developer by profession  Under 18 years old   \n",
      "1           2  I am a developer by profession     35-44 years old   \n",
      "2           3  I am a developer by profession     45-54 years old   \n",
      "3           4           I am learning to code     18-24 years old   \n",
      "4           5  I am a developer by profession     18-24 years old   \n",
      "\n",
      "            Employment RemoteWork   Check  \\\n",
      "0  Employed, full-time     Remote  Apples   \n",
      "1  Employed, full-time     Remote  Apples   \n",
      "2  Employed, full-time     Remote  Apples   \n",
      "3   Student, full-time        NaN  Apples   \n",
      "4   Student, full-time        NaN  Apples   \n",
      "\n",
      "                                    CodingActivities  \\\n",
      "0                                              Hobby   \n",
      "1  Hobby;Contribute to open-source projects;Other...   \n",
      "2  Hobby;Contribute to open-source projects;Other...   \n",
      "3                                                NaN   \n",
      "4                                                NaN   \n",
      "\n",
      "                                             EdLevel  \\\n",
      "0                          Primary/elementary school   \n",
      "1       Bachelor’s degree (B.A., B.S., B.Eng., etc.)   \n",
      "2    Master’s degree (M.A., M.S., M.Eng., MBA, etc.)   \n",
      "3  Some college/university study without earning ...   \n",
      "4  Secondary school (e.g. American high school, G...   \n",
      "\n",
      "                                           LearnCode  \\\n",
      "0                             Books / Physical media   \n",
      "1  Books / Physical media;Colleague;On the job tr...   \n",
      "2  Books / Physical media;Colleague;On the job tr...   \n",
      "3  Other online resources (e.g., videos, blogs, f...   \n",
      "4  Other online resources (e.g., videos, blogs, f...   \n",
      "\n",
      "                                     LearnCodeOnline  ... JobSatPoints_6  \\\n",
      "0                                                NaN  ...            NaN   \n",
      "1  Technical documentation;Blogs;Books;Written Tu...  ...            0.0   \n",
      "2  Technical documentation;Blogs;Books;Written Tu...  ...            NaN   \n",
      "3  Stack Overflow;How-to videos;Interactive tutorial  ...            NaN   \n",
      "4  Technical documentation;Blogs;Written Tutorial...  ...            NaN   \n",
      "\n",
      "  JobSatPoints_7 JobSatPoints_8 JobSatPoints_9 JobSatPoints_10  \\\n",
      "0            NaN            NaN            NaN             NaN   \n",
      "1            0.0            0.0            0.0             0.0   \n",
      "2            NaN            NaN            NaN             NaN   \n",
      "3            NaN            NaN            NaN             NaN   \n",
      "4            NaN            NaN            NaN             NaN   \n",
      "\n",
      "  JobSatPoints_11           SurveyLength SurveyEase ConvertedCompYearly JobSat  \n",
      "0             NaN                    NaN        NaN                 NaN    NaN  \n",
      "1             0.0                    NaN        NaN                 NaN    NaN  \n",
      "2             NaN  Appropriate in length       Easy                 NaN    NaN  \n",
      "3             NaN               Too long       Easy                 NaN    NaN  \n",
      "4             NaN              Too short       Easy                 NaN    NaN  \n",
      "\n",
      "[5 rows x 114 columns]\n"
     ]
    }
   ],
   "source": [
    "# Import necessary libraries\n",
    "import pandas as pd\n",
    "\n",
    "# Load the Stack Overflow survey data\n",
    "dataset_url = \"https://cf-courses-data.s3.us.cloud-object-storage.appdomain.cloud/VYPrOu0Vs3I0hKLLjiPGrA/survey-data-with-duplicate.csv\"\n",
    "\n",
    "df = pd.read_csv(dataset_url)\n",
    "\n",
    "# Display the first few rows\n",
    "print(df.head())\n"
   ]
  },
  {
   "cell_type": "markdown",
   "metadata": {},
   "source": [
    "#### 2. Explore the Dataset\n"
   ]
  },
  {
   "cell_type": "markdown",
   "metadata": {},
   "source": [
    "<h5>2.1 Summarize the dataset by displaying the column data types, counts, and missing values.</h5>\n"
   ]
  },
  {
   "cell_type": "code",
   "execution_count": 103,
   "metadata": {},
   "outputs": [
    {
     "name": "stdout",
     "output_type": "stream",
     "text": [
      "df Overview\n",
      "----------------------------------------\n",
      "Number of rows: 65457\n",
      "Number of columns: 114\n",
      "\n",
      "Column Info\n",
      "----------------------------------------\n",
      "<class 'pandas.core.frame.DataFrame'>\n",
      "RangeIndex: 65457 entries, 0 to 65456\n",
      "Columns: 114 entries, ResponseId to JobSat\n",
      "dtypes: float64(13), int64(1), object(100)\n",
      "memory usage: 56.9+ MB\n",
      "None\n",
      "\n",
      " Missing Values per Column\n",
      "----------------------------------------\n",
      "                            Missing Count  Missing %   Dtype\n",
      "AINextMuch less integrated          64309      98.25  object\n",
      "AINextLess integrated               63102      96.40  object\n",
      "AINextNo change                     52955      80.90  object\n",
      "AINextMuch more integrated          52018      79.47  object\n",
      "EmbeddedAdmired                     48718      74.43  object\n",
      "...                                   ...        ...     ...\n",
      "YearsCode                            5570       8.51  object\n",
      "NEWSOSites                           5151       7.87  object\n",
      "LearnCode                            4950       7.56  object\n",
      "EdLevel                              4654       7.11  object\n",
      "AISelect                             4531       6.92  object\n",
      "\n",
      "[109 rows x 3 columns]\n"
     ]
    }
   ],
   "source": [
    "# Write your code \n",
    "\n",
    "print(\"df Overview\")\n",
    "print(\"-\" * 40)\n",
    "\n",
    "print(f\"Number of rows: {df.shape[0]}\")\n",
    "print(f\"Number of columns: {df.shape[1]}\")\n",
    "print()\n",
    "\n",
    "print(\"Column Info\")\n",
    "print(\"-\" * 40)\n",
    "print(df.info())\n",
    "\n",
    "\n",
    "print(\"\\n Missing Values per Column\")\n",
    "print(\"-\" * 40)\n",
    "missing_counts = df.isnull().sum()\n",
    "missing_percent = (missing_counts / len(df)) * 100\n",
    "missing_summary = pd.DataFrame({\n",
    "    'Missing Count': missing_counts,\n",
    "    'Missing %': missing_percent.round(2),\n",
    "    'Dtype': df.dtypes\n",
    "})\n",
    "print(missing_summary[missing_summary['Missing Count'] > 0].sort_values('Missing Count', ascending=False))\n"
   ]
  },
  {
   "cell_type": "markdown",
   "metadata": {},
   "source": [
    "<h5>2.2 Generate basic statistics for numerical columns.</h5>\n"
   ]
  },
  {
   "cell_type": "code",
   "execution_count": 104,
   "metadata": {},
   "outputs": [
    {
     "name": "stdout",
     "output_type": "stream",
     "text": [
      "Basic Statistics for Numerical Columns\n",
      "----------------------------------------\n",
      "         ResponseId      CompTotal       WorkExp  JobSatPoints_1  \\\n",
      "count  65457.000000   3.374400e+04  29664.000000    29330.000000   \n",
      "mean   32714.493591  2.963490e+145     11.466323       18.578998   \n",
      "std    18892.431636  5.443794e+147      9.168205       25.965347   \n",
      "min        1.000000   0.000000e+00      0.000000        0.000000   \n",
      "25%    16354.000000   6.000000e+04      4.000000        0.000000   \n",
      "50%    32716.000000   1.100000e+05      9.000000       10.000000   \n",
      "75%    49076.000000   2.500000e+05     16.000000       22.000000   \n",
      "max    65437.000000  1.000000e+150     50.000000      100.000000   \n",
      "\n",
      "       JobSatPoints_4  JobSatPoints_5  JobSatPoints_6  JobSatPoints_7  \\\n",
      "count    29399.000000    29417.000000    29456.000000    29454.000000   \n",
      "mean         7.520604       10.059485       24.339971       22.964277   \n",
      "std         18.421094       21.831924       27.088870       27.017634   \n",
      "min          0.000000        0.000000        0.000000        0.000000   \n",
      "25%          0.000000        0.000000        0.000000        0.000000   \n",
      "50%          0.000000        0.000000       20.000000       15.000000   \n",
      "75%          5.000000       10.000000       30.000000       30.000000   \n",
      "max        100.000000      100.000000      100.000000      100.000000   \n",
      "\n",
      "       JobSatPoints_8  JobSatPoints_9  JobSatPoints_10  JobSatPoints_11  \\\n",
      "count    29462.000000    29462.000000     29456.000000     29451.000000   \n",
      "mean        20.279127       16.167837        10.953481         9.953618   \n",
      "std         26.110706       24.844177        22.904463        21.775070   \n",
      "min          0.000000        0.000000         0.000000         0.000000   \n",
      "25%          0.000000        0.000000         0.000000         0.000000   \n",
      "50%         10.000000        5.000000         0.000000         0.000000   \n",
      "75%         25.000000       20.000000        10.000000        10.000000   \n",
      "max        100.000000      100.000000       100.000000       100.000000   \n",
      "\n",
      "       ConvertedCompYearly        JobSat  \n",
      "count         2.343700e+04  29131.000000  \n",
      "mean          8.615893e+04      6.934915  \n",
      "std           1.867532e+05      2.088356  \n",
      "min           1.000000e+00      0.000000  \n",
      "25%           3.271200e+04      6.000000  \n",
      "50%           6.500000e+04      7.000000  \n",
      "75%           1.080000e+05      8.000000  \n",
      "max           1.625660e+07     10.000000  \n"
     ]
    }
   ],
   "source": [
    "# Write your code here\n",
    "print(\"Basic Statistics for Numerical Columns\")\n",
    "print (\"-\" *40)\n",
    "print (df.describe())"
   ]
  },
  {
   "cell_type": "markdown",
   "metadata": {},
   "source": [
    "### 3. Identifying and Removing Inconsistencies\n"
   ]
  },
  {
   "cell_type": "markdown",
   "metadata": {},
   "source": [
    "<h5>3.1 Identify inconsistent or irrelevant entries in specific columns (e.g., Country).</h5>\n"
   ]
  },
  {
   "cell_type": "code",
   "execution_count": 105,
   "metadata": {},
   "outputs": [
    {
     "name": "stdout",
     "output_type": "stream",
     "text": [
      "Country\n",
      "United States of America                                11099\n",
      "NaN                                                      6508\n",
      "Germany                                                  4949\n",
      "India                                                    4232\n",
      "United Kingdom of Great Britain and Northern Ireland     3227\n",
      "Ukraine                                                  2672\n",
      "France                                                   2110\n",
      "Canada                                                   2106\n",
      "Poland                                                   1534\n",
      "Netherlands                                              1449\n",
      "Brazil                                                   1375\n",
      "Italy                                                    1341\n",
      "Australia                                                1260\n",
      "Spain                                                    1123\n",
      "Sweden                                                   1016\n",
      "Russian Federation                                        925\n",
      "Switzerland                                               876\n",
      "Austria                                                   791\n",
      "Czech Republic                                            714\n",
      "Israel                                                    604\n",
      "Turkey                                                    546\n",
      "Belgium                                                   526\n",
      "Denmark                                                   504\n",
      "Portugal                                                  470\n",
      "Norway                                                    451\n",
      "Romania                                                   439\n",
      "Pakistan                                                  415\n",
      "Iran, Islamic Republic of...                              412\n",
      "China                                                     406\n",
      "Mexico                                                    402\n",
      "Name: count, dtype: int64\n"
     ]
    }
   ],
   "source": [
    "# Write your code here\n",
    "\n",
    "print (df['Country'].value_counts(dropna=False).head(30))"
   ]
  },
  {
   "cell_type": "code",
   "execution_count": 106,
   "metadata": {},
   "outputs": [
    {
     "name": "stdout",
     "output_type": "stream",
     "text": [
      "Country\n",
      "united states of america                                11099\n",
      "germany                                                  4949\n",
      "india                                                    4232\n",
      "united kingdom of great britain and northern ireland     3227\n",
      "ukraine                                                  2672\n",
      "Name: count, dtype: int64\n"
     ]
    }
   ],
   "source": [
    "print(df['Country'].str.lower().value_counts().head())"
   ]
  },
  {
   "cell_type": "code",
   "execution_count": 107,
   "metadata": {},
   "outputs": [
    {
     "name": "stdout",
     "output_type": "stream",
     "text": [
      "Suspect Country Entries\n",
      "Series([], Name: count, dtype: int64)\n"
     ]
    }
   ],
   "source": [
    "df['Country_Clean'] = df['Country'].str.lower().str.strip()\n",
    "\n",
    "suspect_entries = df['Country_Clean'].value_counts().loc[lambda x: (x.index.str.len() <3) | (x.index.str.contains(r'\\?|n/a|none|earth|somewhere|^\\s*$',case=False, na=False))]\n",
    "\n",
    "print (\"Suspect Country Entries\")\n",
    "print(suspect_entries)\n",
    "\n",
    "#There is not appear to be inconsistencies in the country column.\n",
    "# I attempted mulitple methods to find inconsistencies for the country column without success. \n",
    "\n",
    "# I am going to create another line and try the process again, but using a differenlty column name. "
   ]
  },
  {
   "cell_type": "code",
   "execution_count": 108,
   "metadata": {},
   "outputs": [
    {
     "name": "stdout",
     "output_type": "stream",
     "text": [
      "Unique Values in EdLevel:\n",
      "['Primary/elementary school'\n",
      " 'Bachelor’s degree (B.A., B.S., B.Eng., etc.)'\n",
      " 'Master’s degree (M.A., M.S., M.Eng., MBA, etc.)'\n",
      " 'Some college/university study without earning a degree'\n",
      " 'Secondary school (e.g. American high school, German Realschule or Gymnasium, etc.)'\n",
      " 'Professional degree (JD, MD, Ph.D, Ed.D, etc.)'\n",
      " 'Associate degree (A.A., A.S., etc.)' 'Something else' nan]\n"
     ]
    }
   ],
   "source": [
    "print (\"Unique Values in EdLevel:\")\n",
    "print(df['EdLevel'].unique())"
   ]
  },
  {
   "cell_type": "code",
   "execution_count": 109,
   "metadata": {},
   "outputs": [
    {
     "name": "stdout",
     "output_type": "stream",
     "text": [
      "EdLevel\n",
      "Bachelor’s degree (B.A., B.S., B.Eng., etc.)                                          24947\n",
      "Master’s degree (M.A., M.S., M.Eng., MBA, etc.)                                       15560\n",
      "Some college/university study without earning a degree                                 7656\n",
      "Secondary school (e.g. American high school, German Realschule or Gymnasium, etc.)     5795\n",
      "NaN                                                                                    4654\n",
      "Professional degree (JD, MD, Ph.D, Ed.D, etc.)                                         2972\n",
      "Associate degree (A.A., A.S., etc.)                                                    1793\n",
      "Primary/elementary school                                                              1148\n",
      "Something else                                                                          932\n",
      "Name: count, dtype: int64\n"
     ]
    }
   ],
   "source": [
    "print (df['EdLevel'].value_counts(dropna=False).head(30))"
   ]
  },
  {
   "cell_type": "code",
   "execution_count": 110,
   "metadata": {},
   "outputs": [
    {
     "name": "stdout",
     "output_type": "stream",
     "text": [
      "EdLevel\n",
      "bachelor’s degree (b.a., b.s., b.eng., etc.)                                          24947\n",
      "master’s degree (m.a., m.s., m.eng., mba, etc.)                                       15560\n",
      "some college/university study without earning a degree                                 7656\n",
      "secondary school (e.g. american high school, german realschule or gymnasium, etc.)     5795\n",
      "professional degree (jd, md, ph.d, ed.d, etc.)                                         2972\n",
      "Name: count, dtype: int64\n"
     ]
    }
   ],
   "source": [
    "print(df['EdLevel'].str.lower().value_counts().head())"
   ]
  },
  {
   "cell_type": "code",
   "execution_count": 111,
   "metadata": {},
   "outputs": [
    {
     "name": "stdout",
     "output_type": "stream",
     "text": [
      "EdLevel\n",
      "bachelor’s degree (b.a., b.s., b.eng., etc.)                                          24947\n",
      "master’s degree (m.a., m.s., m.eng., mba, etc.)                                       15560\n",
      "some college/university study without earning a degree                                 7656\n",
      "secondary school (e.g. american high school, german realschule or gymnasium, etc.)     5795\n",
      "professional degree (jd, md, ph.d, ed.d, etc.)                                         2972\n",
      "associate degree (a.a., a.s., etc.)                                                    1793\n",
      "primary/elementary school                                                              1148\n",
      "something else                                                                          932\n",
      "Name: count, dtype: int64\n"
     ]
    }
   ],
   "source": [
    "EdLevel_Clean = df['EdLevel'].str.lower().str.strip()\n",
    "\n",
    "print (EdLevel_Clean.value_counts())\n",
    "\n"
   ]
  },
  {
   "cell_type": "code",
   "execution_count": 112,
   "metadata": {},
   "outputs": [
    {
     "name": "stdout",
     "output_type": "stream",
     "text": [
      "EdLevel\n",
      "bachelor’s degree (b.a., b.s., b.eng., etc.)                                          24947\n",
      "master’s degree (m.a., m.s., m.eng., mba, etc.)                                       15560\n",
      "some college                                                                           7656\n",
      "secondary school (e.g. american high school, german realschule or gymnasium, etc.)     5795\n",
      "professional degree (jd, md, ph.d, ed.d, etc.)                                         2972\n",
      "associate degree                                                                       1793\n",
      "primary/elementary school                                                              1148\n",
      "something else                                                                          932\n",
      "Name: count, dtype: int64\n"
     ]
    }
   ],
   "source": [
    "education_map = {\n",
    "    \"bachelor’s degree\": \"bachelor’s degree\",\n",
    "    \"bachelor's degree (ba, bs, b.eng., etc.)\": \"bachelor’s degree\",\n",
    "    \"master’s degree\": \"master’s degree\",\n",
    "    \"master's degree (ma, ms, meng, mba, etc.)\": \"master’s degree\",\n",
    "    \"doctoral degree (ph.d, ed.d, etc.)\": \"doctoral degree\",\n",
    "    \"some college/university study without earning a degree\": \"some college\",\n",
    "    \"i never completed any formal education\": \"no formal education\",\n",
    "    \"associate degree (a.a., a.s., etc.)\": \"associate degree\",\n",
    "    \"professional degree (jd, md, etc.)\": \"professional degree\",\n",
    "}\n",
    "\n",
    "EdLevel_normalized = EdLevel_Clean.replace(education_map)\n",
    "\n",
    "print (EdLevel_normalized.value_counts())\n"
   ]
  },
  {
   "cell_type": "code",
   "execution_count": 113,
   "metadata": {},
   "outputs": [
    {
     "name": "stderr",
     "output_type": "stream",
     "text": [
      "/tmp/ipykernel_12775/722150181.py:7: UserWarning: Tight layout not applied. The bottom and top margins cannot be made large enough to accommodate all Axes decorations.\n",
      "  plt.tight_layout()\n"
     ]
    },
    {
     "data": {
      "image/png": "[encoded data removed]",
      "text/plain": [
       "<Figure size 640x480 with 1 Axes>"
      ]
     },
     "metadata": {},
     "output_type": "display_data"
    }
   ],
   "source": [
    "#Lets create a visualization here:\n",
    "\n",
    "EdLevel_Clean.value_counts().sort_index().plot(kind='bar', color='skyblue', edgecolor='black')\n",
    "plt.title('Distribution of Experience Levels')\n",
    "plt.xlabel('Experience Level')\n",
    "plt.ylabel('Number of Respondents')\n",
    "plt.tight_layout()\n",
    "plt.show()"
   ]
  },
  {
   "cell_type": "markdown",
   "metadata": {},
   "source": [
    "<h5>3.2 Standardize entries in columns like Country or EdLevel by mapping inconsistent values to a consistent format.</h5>\n"
   ]
  },
  {
   "cell_type": "code",
   "execution_count": 114,
   "metadata": {},
   "outputs": [],
   "source": [
    "## Write your code here\n",
    "# Standardize country entries (example mappings)\n",
    "country_map = {\n",
    "    'us': 'United States',\n",
    "    'usa': 'United States',\n",
    "    'u.s.a': 'United States',\n",
    "    'united states of america': 'United States',\n",
    "    'uk': 'United Kingdom',\n",
    "    'england': 'United Kingdom',\n",
    "    'great britain': 'United Kingdom',\n",
    "    'germany': 'Germany',\n",
    "    'deutschland': 'Germany',\n",
    "    'canada': 'Canada',\n",
    "    'ca': 'Canada',\n",
    "    'n/a': None,\n",
    "    'none': None,\n",
    "    '?': None,\n",
    "    'earth': None\n",
    "}\n",
    "\n",
    "# Normalize and map\n",
    "df['Country_clean'] = (\n",
    "    df['Country']\n",
    "    .str.lower()\n",
    "    .str.strip()\n",
    "    .replace(country_map)\n",
    "    .str.title()  # Optional: title case for presentation\n",
    ")\n",
    "\n",
    "# Standardize EdLevel entries (example mappings)\n",
    "education_map = {\n",
    "    \"bachelor’s degree\": \"Bachelor’s Degree\",\n",
    "    \"bachelor's degree (ba, bs, b.eng., etc.)\": \"Bachelor’s Degree\",\n",
    "    \"master’s degree\": \"Master’s Degree\",\n",
    "    \"master's degree (ma, ms, meng, mba, etc.)\": \"Master’s Degree\",\n",
    "    \"doctoral degree (ph.d, ed.d, etc.)\": \"Doctoral Degree\",\n",
    "    \"associate degree (a.a., a.s., etc.)\": \"Associate Degree\",\n",
    "    \"some college/university study without earning a degree\": \"Some College\",\n",
    "    \"i never completed any formal education\": \"No Formal Education\",\n",
    "    \"professional degree (jd, md, etc.)\": \"Professional Degree\",\n",
    "    \"primary/elementary school\": \"Primary School\",\n",
    "    \"secondary school (e.g. american high school, german realschule or hauptschule, etc.)\": \"High School\"\n",
    "}\n",
    "\n",
    "# Normalize and map\n",
    "df['EdLevel_clean'] = (\n",
    "    df['EdLevel']\n",
    "    .str.lower()\n",
    "    .str.strip()\n",
    "    .replace(education_map)\n",
    "    .str.title()  # Optional: title case for presentation\n",
    ")"
   ]
  },
  {
   "cell_type": "code",
   "execution_count": 115,
   "metadata": {},
   "outputs": [
    {
     "name": "stdout",
     "output_type": "stream",
     "text": [
      "Standardized Country values:\n",
      "Country_clean\n",
      "United States                                           11099\n",
      "Germany                                                  4949\n",
      "India                                                    4232\n",
      "United Kingdom Of Great Britain And Northern Ireland     3227\n",
      "Ukraine                                                  2672\n",
      "France                                                   2110\n",
      "Canada                                                   2106\n",
      "Poland                                                   1534\n",
      "Netherlands                                              1449\n",
      "Brazil                                                   1375\n",
      "Name: count, dtype: int64\n"
     ]
    }
   ],
   "source": [
    "print(\"Standardized Country values:\")\n",
    "print(df['Country_clean'].value_counts().head(10))"
   ]
  },
  {
   "cell_type": "code",
   "execution_count": 116,
   "metadata": {},
   "outputs": [
    {
     "name": "stdout",
     "output_type": "stream",
     "text": [
      "\n",
      "Standardized EdLevel values:\n",
      "EdLevel_clean\n",
      "Bachelor’S Degree (B.A., B.S., B.Eng., Etc.)                                          24947\n",
      "Master’S Degree (M.A., M.S., M.Eng., Mba, Etc.)                                       15560\n",
      "Some College                                                                           7656\n",
      "Secondary School (E.G. American High School, German Realschule Or Gymnasium, Etc.)     5795\n",
      "Professional Degree (Jd, Md, Ph.D, Ed.D, Etc.)                                         2972\n",
      "Associate Degree                                                                       1793\n",
      "Primary School                                                                         1148\n",
      "Something Else                                                                          932\n",
      "Name: count, dtype: int64\n"
     ]
    }
   ],
   "source": [
    "print(\"\\nStandardized EdLevel values:\")\n",
    "print(df['EdLevel_clean'].value_counts().head(10))"
   ]
  },
  {
   "cell_type": "markdown",
   "metadata": {},
   "source": [
    "### 4. Encoding Categorical Variables\n"
   ]
  },
  {
   "cell_type": "markdown",
   "metadata": {},
   "source": [
    "<h5>4.1 Encode the Employment column using one-hot encoding.</h5>\n"
   ]
  },
  {
   "cell_type": "code",
   "execution_count": 117,
   "metadata": {},
   "outputs": [
    {
     "name": "stdout",
     "output_type": "stream",
     "text": [
      "One-Hot Encoded 'Employment' Columns (sample):\n",
      "            Employment  Employment_Employed, full-time  \\\n",
      "0  Employed, full-time                            True   \n",
      "1  Employed, full-time                            True   \n",
      "2  Employed, full-time                            True   \n",
      "3   Student, full-time                           False   \n",
      "4   Student, full-time                           False   \n",
      "\n",
      "   Employment_Employed, full-time;Employed, part-time  \\\n",
      "0                                              False    \n",
      "1                                              False    \n",
      "2                                              False    \n",
      "3                                              False    \n",
      "4                                              False    \n",
      "\n",
      "   Employment_Employed, full-time;Independent contractor, freelancer, or self-employed  \\\n",
      "0                                              False                                     \n",
      "1                                              False                                     \n",
      "2                                              False                                     \n",
      "3                                              False                                     \n",
      "4                                              False                                     \n",
      "\n",
      "   Employment_Employed, full-time;Independent contractor, freelancer, or self-employed;Employed, part-time  \\\n",
      "0                                              False                                                         \n",
      "1                                              False                                                         \n",
      "2                                              False                                                         \n",
      "3                                              False                                                         \n",
      "4                                              False                                                         \n",
      "\n",
      "   Employment_Employed, full-time;Independent contractor, freelancer, or self-employed;Employed, part-time;Retired  \\\n",
      "0                                              False                                                                 \n",
      "1                                              False                                                                 \n",
      "2                                              False                                                                 \n",
      "3                                              False                                                                 \n",
      "4                                              False                                                                 \n",
      "\n",
      "   Employment_Employed, full-time;Independent contractor, freelancer, or self-employed;Not employed, and not looking for work  \\\n",
      "0                                              False                                                                            \n",
      "1                                              False                                                                            \n",
      "2                                              False                                                                            \n",
      "3                                              False                                                                            \n",
      "4                                              False                                                                            \n",
      "\n",
      "   Employment_Employed, full-time;Independent contractor, freelancer, or self-employed;Not employed, and not looking for work;Employed, part-time  \\\n",
      "0                                              False                                                                                                \n",
      "1                                              False                                                                                                \n",
      "2                                              False                                                                                                \n",
      "3                                              False                                                                                                \n",
      "4                                              False                                                                                                \n",
      "\n",
      "   Employment_Employed, full-time;Independent contractor, freelancer, or self-employed;Not employed, and not looking for work;Student, part-time  \\\n",
      "0                                              False                                                                                               \n",
      "1                                              False                                                                                               \n",
      "2                                              False                                                                                               \n",
      "3                                              False                                                                                               \n",
      "4                                              False                                                                                               \n",
      "\n",
      "   Employment_Employed, full-time;Independent contractor, freelancer, or self-employed;Retired  \\\n",
      "0                                              False                                             \n",
      "1                                              False                                             \n",
      "2                                              False                                             \n",
      "3                                              False                                             \n",
      "4                                              False                                             \n",
      "\n",
      "   ...  \\\n",
      "0  ...   \n",
      "1  ...   \n",
      "2  ...   \n",
      "3  ...   \n",
      "4  ...   \n",
      "\n",
      "   Employment_Student, full-time;Not employed, but looking for work;Not employed, and not looking for work;Student, part-time  \\\n",
      "0                                              False                                                                            \n",
      "1                                              False                                                                            \n",
      "2                                              False                                                                            \n",
      "3                                              False                                                                            \n",
      "4                                              False                                                                            \n",
      "\n",
      "   Employment_Student, full-time;Not employed, but looking for work;Retired  \\\n",
      "0                                              False                          \n",
      "1                                              False                          \n",
      "2                                              False                          \n",
      "3                                              False                          \n",
      "4                                              False                          \n",
      "\n",
      "   Employment_Student, full-time;Not employed, but looking for work;Student, part-time  \\\n",
      "0                                              False                                     \n",
      "1                                              False                                     \n",
      "2                                              False                                     \n",
      "3                                              False                                     \n",
      "4                                              False                                     \n",
      "\n",
      "   Employment_Student, full-time;Retired  \\\n",
      "0                                  False   \n",
      "1                                  False   \n",
      "2                                  False   \n",
      "3                                  False   \n",
      "4                                  False   \n",
      "\n",
      "   Employment_Student, full-time;Student, part-time  \\\n",
      "0                                             False   \n",
      "1                                             False   \n",
      "2                                             False   \n",
      "3                                             False   \n",
      "4                                             False   \n",
      "\n",
      "   Employment_Student, full-time;Student, part-time;Employed, part-time  \\\n",
      "0                                              False                      \n",
      "1                                              False                      \n",
      "2                                              False                      \n",
      "3                                              False                      \n",
      "4                                              False                      \n",
      "\n",
      "   Employment_Student, full-time;Student, part-time;Retired  \\\n",
      "0                                              False          \n",
      "1                                              False          \n",
      "2                                              False          \n",
      "3                                              False          \n",
      "4                                              False          \n",
      "\n",
      "   Employment_Student, part-time  \\\n",
      "0                          False   \n",
      "1                          False   \n",
      "2                          False   \n",
      "3                          False   \n",
      "4                          False   \n",
      "\n",
      "   Employment_Student, part-time;Employed, part-time  \\\n",
      "0                                              False   \n",
      "1                                              False   \n",
      "2                                              False   \n",
      "3                                              False   \n",
      "4                                              False   \n",
      "\n",
      "   Employment_Student, part-time;Retired  \n",
      "0                                  False  \n",
      "1                                  False  \n",
      "2                                  False  \n",
      "3                                  False  \n",
      "4                                  False  \n",
      "\n",
      "[5 rows x 111 columns]\n"
     ]
    }
   ],
   "source": [
    "## Write your code \n",
    "employment_dummies = pd.get_dummies(df['Employment'], prefix='Employment')\n",
    "\n",
    "df_encoded = pd.concat([df, employment_dummies], axis=1)\n",
    "\n",
    "print(\"One-Hot Encoded 'Employment' Columns (sample):\")\n",
    "print(df_encoded.filter(like='Employment').head())"
   ]
  },
  {
   "cell_type": "markdown",
   "metadata": {},
   "source": [
    "### 5. Handling Missing Values\n"
   ]
  },
  {
   "cell_type": "markdown",
   "metadata": {},
   "source": [
    "<h5>5.1 Identify columns with the highest number of missing values.</h5>\n"
   ]
  },
  {
   "cell_type": "code",
   "execution_count": 118,
   "metadata": {},
   "outputs": [
    {
     "name": "stdout",
     "output_type": "stream",
     "text": [
      "Columns with the most missing values:\n",
      "AINextMuch less integrated    64309\n",
      "AINextLess integrated         63102\n",
      "AINextNo change               52955\n",
      "AINextMuch more integrated    52018\n",
      "EmbeddedAdmired               48718\n",
      "                              ...  \n",
      "NEWSOSites                     5151\n",
      "LearnCode                      4950\n",
      "EdLevel                        4654\n",
      "EdLevel_clean                  4654\n",
      "AISelect                       4531\n",
      "Length: 112, dtype: int64\n"
     ]
    }
   ],
   "source": [
    "## Write your code here\n",
    "missing_counts = df.isnull().sum()\n",
    "\n",
    "missing_counts = missing_counts[missing_counts > 0]\n",
    "\n",
    "missing_sorted = missing_counts.sort_values(ascending=False)\n",
    "\n",
    "print (\"Columns with the most missing values:\")\n",
    "print(missing_sorted)"
   ]
  },
  {
   "cell_type": "markdown",
   "metadata": {},
   "source": [
    "<h5>5.2 Impute missing values in numerical columns (e.g., `ConvertedCompYearly`) with the mean or median.</h5>\n"
   ]
  },
  {
   "cell_type": "code",
   "execution_count": 119,
   "metadata": {},
   "outputs": [
    {
     "name": "stdout",
     "output_type": "stream",
     "text": [
      "Filled missing ConvertedCompYearly values with mean: 86158.93\n"
     ]
    }
   ],
   "source": [
    "## Write your code here\n",
    "mean_value = df['ConvertedCompYearly'].mean()\n",
    "df['ConvertCompYearly_filled_mean'] = df['ConvertedCompYearly'].fillna(mean_value)\n",
    "\n",
    "print (f\"Filled missing ConvertedCompYearly values with mean: {mean_value:.2f}\")\n"
   ]
  },
  {
   "cell_type": "markdown",
   "metadata": {},
   "source": [
    "<h5>5.3 Impute missing values in categorical columns (e.g., `RemoteWork`) with the most frequent value.</h5>\n"
   ]
  },
  {
   "cell_type": "code",
   "execution_count": 120,
   "metadata": {},
   "outputs": [
    {
     "name": "stdout",
     "output_type": "stream",
     "text": [
      "Filled missing RemoteWork values with most frequent values: 'Hybrid (some remote, some in-person)'\n"
     ]
    }
   ],
   "source": [
    "## Write your code here\n",
    "most_frequent = df['RemoteWork'].mode()[0]\n",
    "df['RemoteWork_filled'] = df['RemoteWork'].fillna(most_frequent)\n",
    "\n",
    "print (f\"Filled missing RemoteWork values with most frequent values: '{most_frequent}'\")\n",
    "\n",
    "#lets create a visual\n",
    "\n",
    "df['RemoteWork_filled'].value_counts().plot(kind='bar', color='mediumseagreen', "
   ]
  },
  {
   "cell_type": "markdown",
   "metadata": {},
   "source": [
    "### 6. Feature Scaling and Transformation\n"
   ]
  },
  {
   "cell_type": "markdown",
   "metadata": {},
   "source": [
    "<h5>6.1 Apply Min-Max Scaling to normalize the `ConvertedCompYearly` column.</h5>\n"
   ]
  },
  {
   "cell_type": "code",
   "execution_count": 121,
   "metadata": {},
   "outputs": [
    {
     "name": "stdout",
     "output_type": "stream",
     "text": [
      "Min-Max ConvertedCompYearly (0 to 1):\n",
      "   ConvertedCompYearly  ConvertedCompYearly_minmax\n",
      "0                  NaN                         NaN\n",
      "1                  NaN                         NaN\n",
      "2                  NaN                         NaN\n",
      "3                  NaN                         NaN\n",
      "4                  NaN                         NaN\n"
     ]
    }
   ],
   "source": [
    "## Write your code here\n",
    "\n",
    "min_val = df['ConvertedCompYearly'].min()\n",
    "max_val = df['ConvertedCompYearly'].max()\n",
    "\n",
    "df['ConvertedCompYearly_minmax'] = (df['ConvertedCompYearly'] - min_val) / (max_val - min_val)\n",
    "\n",
    "print (\"Min-Max ConvertedCompYearly (0 to 1):\")\n",
    "print (df[['ConvertedCompYearly', 'ConvertedCompYearly_minmax']].head())"
   ]
  },
  {
   "cell_type": "markdown",
   "metadata": {},
   "source": [
    "<h5>6.2 Log-transform the ConvertedCompYearly column to reduce skewness.</h5>\n"
   ]
  },
  {
   "cell_type": "code",
   "execution_count": 122,
   "metadata": {},
   "outputs": [],
   "source": [
    "import numpy as np"
   ]
  },
  {
   "cell_type": "code",
   "execution_count": 123,
   "metadata": {},
   "outputs": [
    {
     "name": "stdout",
     "output_type": "stream",
     "text": [
      "Log-Transformed ConvertedCompYearly:\n",
      "   ConvertedCompYearly  ConvertedCompYearly_log\n",
      "0                  NaN                      NaN\n",
      "1                  NaN                      NaN\n",
      "2                  NaN                      NaN\n",
      "3                  NaN                      NaN\n",
      "4                  NaN                      NaN\n"
     ]
    },
    {
     "data": {
      "image/png": "[encoded data removed]",
      "text/plain": [
       "<Figure size 640x480 with 1 Axes>"
      ]
     },
     "metadata": {},
     "output_type": "display_data"
    }
   ],
   "source": [
    "## Write your code here\n",
    "df['ConvertedCompYearly_log'] = np.log1p(df['ConvertedCompYearly'])\n",
    "\n",
    "print(\"Log-Transformed ConvertedCompYearly:\")\n",
    "print (df[['ConvertedCompYearly', 'ConvertedCompYearly_log']].head())\n",
    "\n",
    "#lets create a visualization \n",
    "\n",
    "plt.scatter(df['ConvertedCompYearly'], df['ConvertedCompYearly_log'],alpha=0.3)\n",
    "plt.title('Long-Transformed vs. Original Compensation')\n",
    "plt.xlabel('Original Compensation (Yearly)')\n",
    "plt.ylabel('Log(1 + Compensation')\n",
    "plt.tight_layout()\n",
    "plt.show()"
   ]
  },
  {
   "cell_type": "markdown",
   "metadata": {},
   "source": [
    "### 7. Feature Engineering\n"
   ]
  },
  {
   "cell_type": "markdown",
   "metadata": {},
   "source": [
    "<h5>7.1 Create a new column `ExperienceLevel` based on the `YearsCodePro` column:</h5>\n"
   ]
  },
  {
   "cell_type": "code",
   "execution_count": 124,
   "metadata": {},
   "outputs": [
    {
     "name": "stdout",
     "output_type": "stream",
     "text": [
      "Assigned experience levels based on YearsCodePro:\n",
      "  YearsCodePro  YearsCodePro_clean ExperienceLevel\n",
      "0          NaN                 NaN             NaN\n",
      "1           17                17.0          Senior\n",
      "2           27                27.0          Expert\n",
      "3          NaN                 NaN             NaN\n",
      "4          NaN                 NaN             NaN\n"
     ]
    },
    {
     "data": {
      "image/png": "[encoded data removed]",
      "text/plain": [
       "<Figure size 640x480 with 1 Axes>"
      ]
     },
     "metadata": {},
     "output_type": "display_data"
    }
   ],
   "source": [
    "## Write your code here\n",
    "\n",
    "df['YearsCodePro_clean'] = (\n",
    "    df['YearsCodePro']\n",
    "    .replace({'Less than 1 year': 0.5, 'More than 50 years': 51})\n",
    "    .astype(float)\n",
    ")\n",
    "\n",
    "bins = [0, 2, 5, 10, 20, float('inf')]\n",
    "labels = ['Beginner', 'Junior', 'Mid-Level', 'Senior', 'Expert']\n",
    "\n",
    "df['ExperienceLevel'] = pd.cut(df['YearsCodePro_clean'], bins=bins, labels=labels, right=False)\n",
    "\n",
    "print (\"Assigned experience levels based on YearsCodePro:\")\n",
    "print (df[['YearsCodePro', 'YearsCodePro_clean', 'ExperienceLevel']].head())\n",
    "\n",
    "#lets create a visualization\n",
    "\n",
    "\n",
    "sns.boxplot(x='ExperienceLevel', y='ConvertedCompYearly', data=df)\n",
    "plt.title('Compensation by Exeperience Level')\n",
    "plt.yscale('log')\n",
    "plt.ylabel('Yearly Compensation (log scale)')\n",
    "plt.tight_layout()\n",
    "plt.show()"
   ]
  },
  {
   "cell_type": "markdown",
   "metadata": {},
   "source": [
    "In this lab, you:\n",
    "\n",
    "- Explored the dataset to identify inconsistencies and missing values.\n",
    "\n",
    "- Encoded categorical variables for analysis.\n",
    "\n",
    "- Handled missing values using imputation techniques.\n",
    "\n",
    "- Normalized and transformed numerical data to prepare it for analysis.\n",
    "\n",
    "- Engineered a new feature to enhance data interpretation.\n"
   ]
  },
  {
   "cell_type": "markdown",
   "metadata": {},
   "source": [
    "Copyright © IBM Corporation. All rights reserved.\n"
   ]
  }
 ],
 "metadata": {
  "kernelspec": {
   "display_name": "Python 3 (ipykernel)",
   "language": "python",
   "name": "python3"
  },
  "language_info": {
   "codemirror_mode": {
    "name": "ipython",
    "version": 3
   },
   "file_extension": ".py",
   "mimetype": "text/x-python",
   "name": "python",
   "nbconvert_exporter": "python",
   "pygments_lexer": "ipython3",
   "version": "3.12.8"
  },
  "prev_pub_hash": "1e8e234f19fd098e27b0518a87f18de690e1c51f1d3263d5690927d19971251e"
 },
 "nbformat": 4,
 "nbformat_minor": 4
}
