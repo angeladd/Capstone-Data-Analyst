{
  "metadata": {
    "kernelspec": {
      "name": "python",
      "display_name": "Python (Pyodide)",
      "language": "python"
    },
    "language_info": {
      "codemirror_mode": {
        "name": "python",
        "version": 3
      },
      "file_extension": ".py",
      "mimetype": "text/x-python",
      "name": "python",
      "nbconvert_exporter": "python",
      "pygments_lexer": "ipython3",
      "version": "3.8"
    },
    "prev_pub_hash": "75f9cbe799d7bcd81dfecdbcf1653c6ad01ca54b63272be450af5e5346a76987"
  },
  "nbformat_minor": 4,
  "nbformat": 4,
  "cells": [
    {
      "cell_type": "markdown",
      "source": "<p style=\"text-align:center\">\n    <a href=\"https://skills.network\" target=\"_blank\">\n    <img src=\"https://cf-courses-data.s3.us.cloud-object-storage.appdomain.cloud/assets/logos/SN_web_lightmode.png\" width=\"200\" alt=\"Skills Network Logo\"  />\n    </a>\n</p>\n",
      "metadata": {}
    },
    {
      "cell_type": "markdown",
      "source": "# **Lab: Exploring the Dataset**\n",
      "metadata": {}
    },
    {
      "cell_type": "markdown",
      "source": "Estimated time needed: **30** minutes\n",
      "metadata": {}
    },
    {
      "cell_type": "markdown",
      "source": "## Introduction\n",
      "metadata": {}
    },
    {
      "cell_type": "markdown",
      "source": "Data exploration is the initial phase of data analysis where we aim to understand the data's characteristics, identify patterns, and uncover potential insights. It is a crucial step that helps us make informed decisions about subsequent analysis.\n",
      "metadata": {}
    },
    {
      "cell_type": "markdown",
      "source": "## Objectives\n",
      "metadata": {}
    },
    {
      "cell_type": "markdown",
      "source": "After completing this lab, you will be able to:\n",
      "metadata": {}
    },
    {
      "cell_type": "markdown",
      "source": "-   Summarize the key characteristics of a dataset.\n-   Identify different data types commonly used in data analysis.\n",
      "metadata": {}
    },
    {
      "cell_type": "markdown",
      "source": "### Install the required library\n",
      "metadata": {}
    },
    {
      "cell_type": "code",
      "source": "import micropip\n\nawait micropip.install('pandas')\n\n# Import pandas after installation\nimport pandas as pd\nprint(pd.__version__)\n",
      "metadata": {
        "trusted": true
      },
      "outputs": [
        {
          "name": "stdout",
          "text": "2.2.0\n",
          "output_type": "stream"
        }
      ],
      "execution_count": 66
    },
    {
      "cell_type": "markdown",
      "source": "## Load the dataset\n",
      "metadata": {}
    },
    {
      "cell_type": "markdown",
      "source": "<h3>Read Data</h3>\n<p>\nWe utilize the <code>pandas.read_csv()</code> function for reading CSV files. However, in this version of the lab, which operates on JupyterLite, the dataset needs to be downloaded to the interface using the provided code below.\n</p>\n",
      "metadata": {}
    },
    {
      "cell_type": "markdown",
      "source": "The functions below will download the dataset into your browser:\n",
      "metadata": {}
    },
    {
      "cell_type": "code",
      "source": "from pyodide.http import pyfetch\n\nasync def download(url, filename):\n    response = await pyfetch(url)\n    if response.status == 200:\n        with open(filename, \"wb\") as f:\n            f.write(await response.bytes())",
      "metadata": {
        "trusted": true
      },
      "outputs": [],
      "execution_count": 67
    },
    {
      "cell_type": "code",
      "source": "file_path = \"https://cf-courses-data.s3.us.cloud-object-storage.appdomain.cloud/n01PQ9pSmiRX6520flujwQ/survey-data.csv\"",
      "metadata": {
        "trusted": true
      },
      "outputs": [],
      "execution_count": 68
    },
    {
      "cell_type": "markdown",
      "source": "To obtain the dataset, utilize the download() function as defined above:  \n",
      "metadata": {}
    },
    {
      "cell_type": "code",
      "source": "await download(file_path, \"survey_data.csv\")\nfile_name=\"survey_data.csv\"",
      "metadata": {
        "trusted": true
      },
      "outputs": [],
      "execution_count": 69
    },
    {
      "cell_type": "markdown",
      "source": "Utilize the Pandas method read_csv() to load the data into a dataframe.\n",
      "metadata": {}
    },
    {
      "cell_type": "code",
      "source": "df = pd.read_csv(file_name)",
      "metadata": {
        "trusted": true
      },
      "outputs": [],
      "execution_count": 70
    },
    {
      "cell_type": "markdown",
      "source": "> Note: This version of the lab is working on JupyterLite, which requires the dataset to be downloaded to the interface.While working on the downloaded version of this notebook on their local machines(Jupyter Anaconda), the learners can simply **skip the steps above,** and simply use the URL directly in the `pandas.read_csv()` function. You can uncomment and run the statements in the cell below.\n",
      "metadata": {}
    },
    {
      "cell_type": "markdown",
      "source": "# Hands on Lab\n",
      "metadata": {}
    },
    {
      "cell_type": "markdown",
      "source": "## Explore the dataset\n",
      "metadata": {}
    },
    {
      "cell_type": "markdown",
      "source": "It is a good idea to print the top 5 rows of the dataset to get a feel of how the dataset will look.\n",
      "metadata": {}
    },
    {
      "cell_type": "markdown",
      "source": "Display the top 5 rows and columns from your dataset.\n",
      "metadata": {}
    },
    {
      "cell_type": "code",
      "source": "## Write your code here\ndf.head()",
      "metadata": {
        "trusted": true
      },
      "outputs": [
        {
          "execution_count": 84,
          "output_type": "execute_result",
          "data": {
            "text/plain": "   ResponseId                      MainBranch                 Age  \\\n0           1  I am a developer by profession  Under 18 years old   \n1           2  I am a developer by profession     35-44 years old   \n2           3  I am a developer by profession     45-54 years old   \n3           4           I am learning to code     18-24 years old   \n4           5  I am a developer by profession     18-24 years old   \n\n            Employment RemoteWork   Check  \\\n0  Employed, full-time     Remote  Apples   \n1  Employed, full-time     Remote  Apples   \n2  Employed, full-time     Remote  Apples   \n3   Student, full-time        NaN  Apples   \n4   Student, full-time        NaN  Apples   \n\n                                    CodingActivities  \\\n0                                              Hobby   \n1  Hobby;Contribute to open-source projects;Other...   \n2  Hobby;Contribute to open-source projects;Other...   \n3                                                NaN   \n4                                                NaN   \n\n                                             EdLevel  \\\n0                          Primary/elementary school   \n1       Bachelor’s degree (B.A., B.S., B.Eng., etc.)   \n2    Master’s degree (M.A., M.S., M.Eng., MBA, etc.)   \n3  Some college/university study without earning ...   \n4  Secondary school (e.g. American high school, G...   \n\n                                           LearnCode  \\\n0                             Books / Physical media   \n1  Books / Physical media;Colleague;On the job tr...   \n2  Books / Physical media;Colleague;On the job tr...   \n3  Other online resources (e.g., videos, blogs, f...   \n4  Other online resources (e.g., videos, blogs, f...   \n\n                                     LearnCodeOnline  \\\n0                                                NaN   \n1  Technical documentation;Blogs;Books;Written Tu...   \n2  Technical documentation;Blogs;Books;Written Tu...   \n3  Stack Overflow;How-to videos;Interactive tutorial   \n4  Technical documentation;Blogs;Written Tutorial...   \n\n                                             TechDoc YearsCode YearsCodePro  \\\n0                                                NaN       NaN          NaN   \n1  API document(s) and/or SDK document(s);User gu...        20           17   \n2  API document(s) and/or SDK document(s);User gu...        37           27   \n3                                                NaN         4          NaN   \n4  API document(s) and/or SDK document(s);User gu...         9          NaN   \n\n                 DevType OrgSize PurchaseInfluence BuyNewTool BuildvsBuy  \\\n0                    NaN     NaN               NaN        NaN        NaN   \n1  Developer, full-stack     NaN               NaN        NaN        NaN   \n2   Developer Experience     NaN               NaN        NaN        NaN   \n3  Developer, full-stack     NaN               NaN        NaN        NaN   \n4  Developer, full-stack     NaN               NaN        NaN        NaN   \n\n  TechEndorse                                            Country Currency  \\\n0         NaN                           United States of America      NaN   \n1         NaN  United Kingdom of Great Britain and Northern I...      NaN   \n2         NaN  United Kingdom of Great Britain and Northern I...      NaN   \n3         NaN                                             Canada      NaN   \n4         NaN                                             Norway      NaN   \n\n   CompTotal                             LanguageHaveWorkedWith  \\\n0        NaN                                                NaN   \n1        NaN  Bash/Shell (all shells);Go;HTML/CSS;Java;JavaS...   \n2        NaN                                                 C#   \n3        NaN  C;C++;HTML/CSS;Java;JavaScript;PHP;PowerShell;...   \n4        NaN            C++;HTML/CSS;JavaScript;Lua;Python;Rust   \n\n                              LanguageWantToWorkWith  \\\n0                                                NaN   \n1  Bash/Shell (all shells);Go;HTML/CSS;Java;JavaS...   \n2                                                 C#   \n3  HTML/CSS;Java;JavaScript;PowerShell;Python;SQL...   \n4                 C++;HTML/CSS;JavaScript;Lua;Python   \n\n                                     LanguageAdmired  \\\n0                                                NaN   \n1  Bash/Shell (all shells);Go;HTML/CSS;Java;JavaS...   \n2                                                 C#   \n3  HTML/CSS;Java;JavaScript;PowerShell;Python;SQL...   \n4                 C++;HTML/CSS;JavaScript;Lua;Python   \n\n            DatabaseHaveWorkedWith      DatabaseWantToWorkWith  \\\n0                              NaN                         NaN   \n1      Dynamodb;MongoDB;PostgreSQL                  PostgreSQL   \n2       Firebase Realtime Database  Firebase Realtime Database   \n3  MongoDB;MySQL;PostgreSQL;SQLite    MongoDB;MySQL;PostgreSQL   \n4                PostgreSQL;SQLite           PostgreSQL;SQLite   \n\n              DatabaseAdmired                    PlatformHaveWorkedWith  \\\n0                         NaN                                       NaN   \n1                  PostgreSQL  Amazon Web Services (AWS);Heroku;Netlify   \n2  Firebase Realtime Database                              Google Cloud   \n3    MongoDB;MySQL;PostgreSQL   Amazon Web Services (AWS);Fly.io;Heroku   \n4           PostgreSQL;SQLite                                       NaN   \n\n                     PlatformWantToWorkWith  \\\n0                                       NaN   \n1  Amazon Web Services (AWS);Heroku;Netlify   \n2                              Google Cloud   \n3          Amazon Web Services (AWS);Vercel   \n4                                       NaN   \n\n                            PlatformAdmired  \\\n0                                       NaN   \n1  Amazon Web Services (AWS);Heroku;Netlify   \n2                              Google Cloud   \n3                 Amazon Web Services (AWS)   \n4                                       NaN   \n\n                   WebframeHaveWorkedWith            WebframeWantToWorkWith  \\\n0                                     NaN                               NaN   \n1           Express;Next.js;Node.js;React  Express;Htmx;Node.js;React;Remix   \n2                            ASP.NET CORE                      ASP.NET CORE   \n3  jQuery;Next.js;Node.js;React;WordPress      jQuery;Next.js;Node.js;React   \n4                                     NaN                               NaN   \n\n                WebframeAdmired   EmbeddedHaveWorkedWith  \\\n0                           NaN                      NaN   \n1         Express;Node.js;React                      NaN   \n2                  ASP.NET CORE              Rasberry Pi   \n3  jQuery;Next.js;Node.js;React              Rasberry Pi   \n4                           NaN  CMake;Cargo;Rasberry Pi   \n\n  EmbeddedWantToWorkWith    EmbeddedAdmired  \\\n0                    NaN                NaN   \n1                    NaN                NaN   \n2            Rasberry Pi        Rasberry Pi   \n3                    NaN                NaN   \n4      CMake;Rasberry Pi  CMake;Rasberry Pi   \n\n                            MiscTechHaveWorkedWith  \\\n0                                              NaN   \n1                                              NaN   \n2  .NET (5+) ;.NET Framework (1.0 - 4.8);.NET MAUI   \n3                     NumPy;Pandas;Ruff;TensorFlow   \n4                                              NaN   \n\n                            MiscTechWantToWorkWith  \\\n0                                              NaN   \n1                                              NaN   \n2  .NET (5+) ;.NET Framework (1.0 - 4.8);.NET MAUI   \n3                                              NaN   \n4                                              NaN   \n\n                                   MiscTechAdmired  \\\n0                                              NaN   \n1                                              NaN   \n2  .NET (5+) ;.NET Framework (1.0 - 4.8);.NET MAUI   \n3                                              NaN   \n4                                              NaN   \n\n                       ToolsTechHaveWorkedWith  \\\n0                                          NaN   \n1  Docker;Homebrew;Kubernetes;npm;Vite;Webpack   \n2                                      MSBuild   \n3                               Docker;npm;Pip   \n4                                 APT;Make;npm   \n\n                       ToolsTechWantToWorkWith  \\\n0                                          NaN   \n1  Docker;Homebrew;Kubernetes;npm;Vite;Webpack   \n2                                      MSBuild   \n3                        Docker;Kubernetes;npm   \n4                                     APT;Make   \n\n                              ToolsTechAdmired  \\\n0                                          NaN   \n1  Docker;Homebrew;Kubernetes;npm;Vite;Webpack   \n2                                      MSBuild   \n3                                   Docker;npm   \n4                                     APT;Make   \n\n          NEWCollabToolsHaveWorkedWith         NEWCollabToolsWantToWorkWith  \\\n0                                  NaN                                  NaN   \n1  PyCharm;Visual Studio Code;WebStorm  PyCharm;Visual Studio Code;WebStorm   \n2                        Visual Studio                        Visual Studio   \n3                                  NaN                                  NaN   \n4                                  Vim                                  Vim   \n\n                 NEWCollabToolsAdmired        OpSysPersonal use  \\\n0                                  NaN                      NaN   \n1  PyCharm;Visual Studio Code;WebStorm            MacOS;Windows   \n2                        Visual Studio                  Windows   \n3                                  NaN                      NaN   \n4                                  Vim  Other (please specify):   \n\n  OpSysProfessional use                     OfficeStackAsyncHaveWorkedWith  \\\n0                   NaN                                                NaN   \n1                 MacOS                                                NaN   \n2               Windows                                                NaN   \n3                   NaN                                                NaN   \n4                   NaN  GitHub Discussions;Markdown File;Obsidian;Stac...   \n\n              OfficeStackAsyncWantToWorkWith  \\\n0                                        NaN   \n1                                        NaN   \n2                                        NaN   \n3                                        NaN   \n4  GitHub Discussions;Markdown File;Obsidian   \n\n                     OfficeStackAsyncAdmired  \\\n0                                        NaN   \n1                                        NaN   \n2                                        NaN   \n3                                        NaN   \n4  GitHub Discussions;Markdown File;Obsidian   \n\n                  OfficeStackSyncHaveWorkedWith OfficeStackSyncWantToWorkWith  \\\n0                                           NaN                           NaN   \n1                         Microsoft Teams;Slack                         Slack   \n2  Google Chat;Google Meet;Microsoft Teams;Zoom  Google Chat;Google Meet;Zoom   \n3                                           NaN                           NaN   \n4                              Discord;Whatsapp              Discord;Whatsapp   \n\n         OfficeStackSyncAdmired AISearchDevHaveWorkedWith  \\\n0                           NaN                       NaN   \n1                         Slack                       NaN   \n2  Google Chat;Google Meet;Zoom                       NaN   \n3                           NaN                       NaN   \n4              Discord;Whatsapp                       NaN   \n\n  AISearchDevWantToWorkWith AISearchDevAdmired  \\\n0                       NaN                NaN   \n1                       NaN                NaN   \n2                       NaN                NaN   \n3                       NaN                NaN   \n4                       NaN                NaN   \n\n                                          NEWSOSites             SOVisitFreq  \\\n0  I have never visited Stack Overflow or the Sta...                     NaN   \n1  Stack Overflow for Teams (private knowledge sh...  Multiple times per day   \n2  Stack Overflow;Stack Exchange;Stack Overflow B...  Multiple times per day   \n3                                     Stack Overflow   Daily or almost daily   \n4  Stack Overflow for Teams (private knowledge sh...  Multiple times per day   \n\n  SOAccount              SOPartFreq  \\\n0       NaN                     NaN   \n1       Yes  Multiple times per day   \n2       Yes  Multiple times per day   \n3        No                     NaN   \n4       Yes  Multiple times per day   \n\n                                               SOHow           SOComm  \\\n0                                                NaN              NaN   \n1  Quickly finding code solutions;Finding reliabl...  Yes, definitely   \n2  Quickly finding code solutions;Finding reliabl...  Yes, definitely   \n3                     Quickly finding code solutions   No, not really   \n4  Quickly finding code solutions;Engage with com...  Yes, definitely   \n\n                  AISelect          AISent  \\\n0                      Yes  Very favorable   \n1  No, and I don't plan to             NaN   \n2  No, and I don't plan to             NaN   \n3                      Yes  Very favorable   \n4  No, and I don't plan to             NaN   \n\n                                               AIBen           AIAcc  \\\n0                              Increase productivity             NaN   \n1                                                NaN             NaN   \n2                                                NaN             NaN   \n3  Increase productivity;Greater efficiency;Impro...  Somewhat trust   \n4                                                NaN             NaN   \n\n                       AIComplex  \\\n0                            NaN   \n1                            NaN   \n2                            NaN   \n3  Bad at handling complex tasks   \n4                            NaN   \n\n                               AIToolCurrently Using  \\\n0                                                NaN   \n1                                                NaN   \n2                                                NaN   \n3  Learning about a codebase;Project planning;Wri...   \n4                                                NaN   \n\n                           AIToolInterested in Using  \\\n0                                                NaN   \n1                                                NaN   \n2                                                NaN   \n3  Testing code;Committing and reviewing code;Pre...   \n4                                                NaN   \n\n  AIToolNot interested in Using  \\\n0                           NaN   \n1                           NaN   \n2                           NaN   \n3                           NaN   \n4                           NaN   \n\n                          AINextMuch more integrated AINextNo change  \\\n0                                                NaN             NaN   \n1                                                NaN             NaN   \n2                                                NaN             NaN   \n3  Learning about a codebase;Project planning;Wri...             NaN   \n4                                                NaN             NaN   \n\n  AINextMore integrated AINextLess integrated AINextMuch less integrated  \\\n0                   NaN                   NaN                        NaN   \n1                   NaN                   NaN                        NaN   \n2                   NaN                   NaN                        NaN   \n3                   NaN                   NaN                        NaN   \n4                   NaN                   NaN                        NaN   \n\n  AIThreat                                           AIEthics  \\\n0      NaN                                                NaN   \n1      NaN                                                NaN   \n2      NaN                                                NaN   \n3       No  Circulating misinformation or disinformation;M...   \n4      NaN                                                NaN   \n\n                        AIChallenges TBranch                  ICorPM  WorkExp  \\\n0                                NaN      No                     NaN      NaN   \n1                                NaN     Yes  Individual contributor     17.0   \n2                                NaN      No                     NaN      NaN   \n3  Don’t trust the output or answers     NaN                     NaN      NaN   \n4                                NaN     NaN                     NaN      NaN   \n\n  Knowledge_1 Knowledge_2 Knowledge_3 Knowledge_4 Knowledge_5  \\\n0         NaN         NaN         NaN         NaN         NaN   \n1       Agree    Disagree       Agree       Agree       Agree   \n2         NaN         NaN         NaN         NaN         NaN   \n3         NaN         NaN         NaN         NaN         NaN   \n4         NaN         NaN         NaN         NaN         NaN   \n\n                  Knowledge_6 Knowledge_7 Knowledge_8 Knowledge_9 Frequency_1  \\\n0                         NaN         NaN         NaN         NaN         NaN   \n1  Neither agree nor disagree    Disagree       Agree       Agree         NaN   \n2                         NaN         NaN         NaN         NaN         NaN   \n3                         NaN         NaN         NaN         NaN         NaN   \n4                         NaN         NaN         NaN         NaN         NaN   \n\n  Frequency_2 Frequency_3 TimeSearching TimeAnswering Frustration  \\\n0         NaN         NaN           NaN           NaN         NaN   \n1         NaN         NaN           NaN           NaN         NaN   \n2         NaN         NaN           NaN           NaN         NaN   \n3         NaN         NaN           NaN           NaN         NaN   \n4         NaN         NaN           NaN           NaN         NaN   \n\n  ProfessionalTech ProfessionalCloud ProfessionalQuestion Industry  \\\n0              NaN               NaN                  NaN      NaN   \n1              NaN               NaN                  NaN      NaN   \n2              NaN               NaN                  NaN      NaN   \n3              NaN               NaN                  NaN      NaN   \n4              NaN               NaN                  NaN      NaN   \n\n   JobSatPoints_1  JobSatPoints_4  JobSatPoints_5  JobSatPoints_6  \\\n0             NaN             NaN             NaN             NaN   \n1             0.0             0.0             0.0             0.0   \n2             NaN             NaN             NaN             NaN   \n3             NaN             NaN             NaN             NaN   \n4             NaN             NaN             NaN             NaN   \n\n   JobSatPoints_7  JobSatPoints_8  JobSatPoints_9  JobSatPoints_10  \\\n0             NaN             NaN             NaN              NaN   \n1             0.0             0.0             0.0              0.0   \n2             NaN             NaN             NaN              NaN   \n3             NaN             NaN             NaN              NaN   \n4             NaN             NaN             NaN              NaN   \n\n   JobSatPoints_11           SurveyLength SurveyEase  ConvertedCompYearly  \\\n0              NaN                    NaN        NaN                  NaN   \n1              0.0                    NaN        NaN                  NaN   \n2              NaN  Appropriate in length       Easy                  NaN   \n3              NaN               Too long       Easy                  NaN   \n4              NaN              Too short       Easy                  NaN   \n\n   JobSat  \n0     NaN  \n1     NaN  \n2     NaN  \n3     NaN  \n4     NaN  ",
            "text/html": "<div>\n<style scoped>\n    .dataframe tbody tr th:only-of-type {\n        vertical-align: middle;\n    }\n\n    .dataframe tbody tr th {\n        vertical-align: top;\n    }\n\n    .dataframe thead th {\n        text-align: right;\n    }\n</style>\n<table border=\"1\" class=\"dataframe\">\n  <thead>\n    <tr style=\"text-align: right;\">\n      <th></th>\n      <th>ResponseId</th>\n      <th>MainBranch</th>\n      <th>Age</th>\n      <th>Employment</th>\n      <th>RemoteWork</th>\n      <th>Check</th>\n      <th>CodingActivities</th>\n      <th>EdLevel</th>\n      <th>LearnCode</th>\n      <th>LearnCodeOnline</th>\n      <th>TechDoc</th>\n      <th>YearsCode</th>\n      <th>YearsCodePro</th>\n      <th>DevType</th>\n      <th>OrgSize</th>\n      <th>PurchaseInfluence</th>\n      <th>BuyNewTool</th>\n      <th>BuildvsBuy</th>\n      <th>TechEndorse</th>\n      <th>Country</th>\n      <th>Currency</th>\n      <th>CompTotal</th>\n      <th>LanguageHaveWorkedWith</th>\n      <th>LanguageWantToWorkWith</th>\n      <th>LanguageAdmired</th>\n      <th>DatabaseHaveWorkedWith</th>\n      <th>DatabaseWantToWorkWith</th>\n      <th>DatabaseAdmired</th>\n      <th>PlatformHaveWorkedWith</th>\n      <th>PlatformWantToWorkWith</th>\n      <th>PlatformAdmired</th>\n      <th>WebframeHaveWorkedWith</th>\n      <th>WebframeWantToWorkWith</th>\n      <th>WebframeAdmired</th>\n      <th>EmbeddedHaveWorkedWith</th>\n      <th>EmbeddedWantToWorkWith</th>\n      <th>EmbeddedAdmired</th>\n      <th>MiscTechHaveWorkedWith</th>\n      <th>MiscTechWantToWorkWith</th>\n      <th>MiscTechAdmired</th>\n      <th>ToolsTechHaveWorkedWith</th>\n      <th>ToolsTechWantToWorkWith</th>\n      <th>ToolsTechAdmired</th>\n      <th>NEWCollabToolsHaveWorkedWith</th>\n      <th>NEWCollabToolsWantToWorkWith</th>\n      <th>NEWCollabToolsAdmired</th>\n      <th>OpSysPersonal use</th>\n      <th>OpSysProfessional use</th>\n      <th>OfficeStackAsyncHaveWorkedWith</th>\n      <th>OfficeStackAsyncWantToWorkWith</th>\n      <th>OfficeStackAsyncAdmired</th>\n      <th>OfficeStackSyncHaveWorkedWith</th>\n      <th>OfficeStackSyncWantToWorkWith</th>\n      <th>OfficeStackSyncAdmired</th>\n      <th>AISearchDevHaveWorkedWith</th>\n      <th>AISearchDevWantToWorkWith</th>\n      <th>AISearchDevAdmired</th>\n      <th>NEWSOSites</th>\n      <th>SOVisitFreq</th>\n      <th>SOAccount</th>\n      <th>SOPartFreq</th>\n      <th>SOHow</th>\n      <th>SOComm</th>\n      <th>AISelect</th>\n      <th>AISent</th>\n      <th>AIBen</th>\n      <th>AIAcc</th>\n      <th>AIComplex</th>\n      <th>AIToolCurrently Using</th>\n      <th>AIToolInterested in Using</th>\n      <th>AIToolNot interested in Using</th>\n      <th>AINextMuch more integrated</th>\n      <th>AINextNo change</th>\n      <th>AINextMore integrated</th>\n      <th>AINextLess integrated</th>\n      <th>AINextMuch less integrated</th>\n      <th>AIThreat</th>\n      <th>AIEthics</th>\n      <th>AIChallenges</th>\n      <th>TBranch</th>\n      <th>ICorPM</th>\n      <th>WorkExp</th>\n      <th>Knowledge_1</th>\n      <th>Knowledge_2</th>\n      <th>Knowledge_3</th>\n      <th>Knowledge_4</th>\n      <th>Knowledge_5</th>\n      <th>Knowledge_6</th>\n      <th>Knowledge_7</th>\n      <th>Knowledge_8</th>\n      <th>Knowledge_9</th>\n      <th>Frequency_1</th>\n      <th>Frequency_2</th>\n      <th>Frequency_3</th>\n      <th>TimeSearching</th>\n      <th>TimeAnswering</th>\n      <th>Frustration</th>\n      <th>ProfessionalTech</th>\n      <th>ProfessionalCloud</th>\n      <th>ProfessionalQuestion</th>\n      <th>Industry</th>\n      <th>JobSatPoints_1</th>\n      <th>JobSatPoints_4</th>\n      <th>JobSatPoints_5</th>\n      <th>JobSatPoints_6</th>\n      <th>JobSatPoints_7</th>\n      <th>JobSatPoints_8</th>\n      <th>JobSatPoints_9</th>\n      <th>JobSatPoints_10</th>\n      <th>JobSatPoints_11</th>\n      <th>SurveyLength</th>\n      <th>SurveyEase</th>\n      <th>ConvertedCompYearly</th>\n      <th>JobSat</th>\n    </tr>\n  </thead>\n  <tbody>\n    <tr>\n      <th>0</th>\n      <td>1</td>\n      <td>I am a developer by profession</td>\n      <td>Under 18 years old</td>\n      <td>Employed, full-time</td>\n      <td>Remote</td>\n      <td>Apples</td>\n      <td>Hobby</td>\n      <td>Primary/elementary school</td>\n      <td>Books / Physical media</td>\n      <td>NaN</td>\n      <td>NaN</td>\n      <td>NaN</td>\n      <td>NaN</td>\n      <td>NaN</td>\n      <td>NaN</td>\n      <td>NaN</td>\n      <td>NaN</td>\n      <td>NaN</td>\n      <td>NaN</td>\n      <td>United States of America</td>\n      <td>NaN</td>\n      <td>NaN</td>\n      <td>NaN</td>\n      <td>NaN</td>\n      <td>NaN</td>\n      <td>NaN</td>\n      <td>NaN</td>\n      <td>NaN</td>\n      <td>NaN</td>\n      <td>NaN</td>\n      <td>NaN</td>\n      <td>NaN</td>\n      <td>NaN</td>\n      <td>NaN</td>\n      <td>NaN</td>\n      <td>NaN</td>\n      <td>NaN</td>\n      <td>NaN</td>\n      <td>NaN</td>\n      <td>NaN</td>\n      <td>NaN</td>\n      <td>NaN</td>\n      <td>NaN</td>\n      <td>NaN</td>\n      <td>NaN</td>\n      <td>NaN</td>\n      <td>NaN</td>\n      <td>NaN</td>\n      <td>NaN</td>\n      <td>NaN</td>\n      <td>NaN</td>\n      <td>NaN</td>\n      <td>NaN</td>\n      <td>NaN</td>\n      <td>NaN</td>\n      <td>NaN</td>\n      <td>NaN</td>\n      <td>I have never visited Stack Overflow or the Sta...</td>\n      <td>NaN</td>\n      <td>NaN</td>\n      <td>NaN</td>\n      <td>NaN</td>\n      <td>NaN</td>\n      <td>Yes</td>\n      <td>Very favorable</td>\n      <td>Increase productivity</td>\n      <td>NaN</td>\n      <td>NaN</td>\n      <td>NaN</td>\n      <td>NaN</td>\n      <td>NaN</td>\n      <td>NaN</td>\n      <td>NaN</td>\n      <td>NaN</td>\n      <td>NaN</td>\n      <td>NaN</td>\n      <td>NaN</td>\n      <td>NaN</td>\n      <td>NaN</td>\n      <td>No</td>\n      <td>NaN</td>\n      <td>NaN</td>\n      <td>NaN</td>\n      <td>NaN</td>\n      <td>NaN</td>\n      <td>NaN</td>\n      <td>NaN</td>\n      <td>NaN</td>\n      <td>NaN</td>\n      <td>NaN</td>\n      <td>NaN</td>\n      <td>NaN</td>\n      <td>NaN</td>\n      <td>NaN</td>\n      <td>NaN</td>\n      <td>NaN</td>\n      <td>NaN</td>\n      <td>NaN</td>\n      <td>NaN</td>\n      <td>NaN</td>\n      <td>NaN</td>\n      <td>NaN</td>\n      <td>NaN</td>\n      <td>NaN</td>\n      <td>NaN</td>\n      <td>NaN</td>\n      <td>NaN</td>\n      <td>NaN</td>\n      <td>NaN</td>\n      <td>NaN</td>\n      <td>NaN</td>\n      <td>NaN</td>\n      <td>NaN</td>\n      <td>NaN</td>\n    </tr>\n    <tr>\n      <th>1</th>\n      <td>2</td>\n      <td>I am a developer by profession</td>\n      <td>35-44 years old</td>\n      <td>Employed, full-time</td>\n      <td>Remote</td>\n      <td>Apples</td>\n      <td>Hobby;Contribute to open-source projects;Other...</td>\n      <td>Bachelor’s degree (B.A., B.S., B.Eng., etc.)</td>\n      <td>Books / Physical media;Colleague;On the job tr...</td>\n      <td>Technical documentation;Blogs;Books;Written Tu...</td>\n      <td>API document(s) and/or SDK document(s);User gu...</td>\n      <td>20</td>\n      <td>17</td>\n      <td>Developer, full-stack</td>\n      <td>NaN</td>\n      <td>NaN</td>\n      <td>NaN</td>\n      <td>NaN</td>\n      <td>NaN</td>\n      <td>United Kingdom of Great Britain and Northern I...</td>\n      <td>NaN</td>\n      <td>NaN</td>\n      <td>Bash/Shell (all shells);Go;HTML/CSS;Java;JavaS...</td>\n      <td>Bash/Shell (all shells);Go;HTML/CSS;Java;JavaS...</td>\n      <td>Bash/Shell (all shells);Go;HTML/CSS;Java;JavaS...</td>\n      <td>Dynamodb;MongoDB;PostgreSQL</td>\n      <td>PostgreSQL</td>\n      <td>PostgreSQL</td>\n      <td>Amazon Web Services (AWS);Heroku;Netlify</td>\n      <td>Amazon Web Services (AWS);Heroku;Netlify</td>\n      <td>Amazon Web Services (AWS);Heroku;Netlify</td>\n      <td>Express;Next.js;Node.js;React</td>\n      <td>Express;Htmx;Node.js;React;Remix</td>\n      <td>Express;Node.js;React</td>\n      <td>NaN</td>\n      <td>NaN</td>\n      <td>NaN</td>\n      <td>NaN</td>\n      <td>NaN</td>\n      <td>NaN</td>\n      <td>Docker;Homebrew;Kubernetes;npm;Vite;Webpack</td>\n      <td>Docker;Homebrew;Kubernetes;npm;Vite;Webpack</td>\n      <td>Docker;Homebrew;Kubernetes;npm;Vite;Webpack</td>\n      <td>PyCharm;Visual Studio Code;WebStorm</td>\n      <td>PyCharm;Visual Studio Code;WebStorm</td>\n      <td>PyCharm;Visual Studio Code;WebStorm</td>\n      <td>MacOS;Windows</td>\n      <td>MacOS</td>\n      <td>NaN</td>\n      <td>NaN</td>\n      <td>NaN</td>\n      <td>Microsoft Teams;Slack</td>\n      <td>Slack</td>\n      <td>Slack</td>\n      <td>NaN</td>\n      <td>NaN</td>\n      <td>NaN</td>\n      <td>Stack Overflow for Teams (private knowledge sh...</td>\n      <td>Multiple times per day</td>\n      <td>Yes</td>\n      <td>Multiple times per day</td>\n      <td>Quickly finding code solutions;Finding reliabl...</td>\n      <td>Yes, definitely</td>\n      <td>No, and I don't plan to</td>\n      <td>NaN</td>\n      <td>NaN</td>\n      <td>NaN</td>\n      <td>NaN</td>\n      <td>NaN</td>\n      <td>NaN</td>\n      <td>NaN</td>\n      <td>NaN</td>\n      <td>NaN</td>\n      <td>NaN</td>\n      <td>NaN</td>\n      <td>NaN</td>\n      <td>NaN</td>\n      <td>NaN</td>\n      <td>NaN</td>\n      <td>Yes</td>\n      <td>Individual contributor</td>\n      <td>17.0</td>\n      <td>Agree</td>\n      <td>Disagree</td>\n      <td>Agree</td>\n      <td>Agree</td>\n      <td>Agree</td>\n      <td>Neither agree nor disagree</td>\n      <td>Disagree</td>\n      <td>Agree</td>\n      <td>Agree</td>\n      <td>NaN</td>\n      <td>NaN</td>\n      <td>NaN</td>\n      <td>NaN</td>\n      <td>NaN</td>\n      <td>NaN</td>\n      <td>NaN</td>\n      <td>NaN</td>\n      <td>NaN</td>\n      <td>NaN</td>\n      <td>0.0</td>\n      <td>0.0</td>\n      <td>0.0</td>\n      <td>0.0</td>\n      <td>0.0</td>\n      <td>0.0</td>\n      <td>0.0</td>\n      <td>0.0</td>\n      <td>0.0</td>\n      <td>NaN</td>\n      <td>NaN</td>\n      <td>NaN</td>\n      <td>NaN</td>\n    </tr>\n    <tr>\n      <th>2</th>\n      <td>3</td>\n      <td>I am a developer by profession</td>\n      <td>45-54 years old</td>\n      <td>Employed, full-time</td>\n      <td>Remote</td>\n      <td>Apples</td>\n      <td>Hobby;Contribute to open-source projects;Other...</td>\n      <td>Master’s degree (M.A., M.S., M.Eng., MBA, etc.)</td>\n      <td>Books / Physical media;Colleague;On the job tr...</td>\n      <td>Technical documentation;Blogs;Books;Written Tu...</td>\n      <td>API document(s) and/or SDK document(s);User gu...</td>\n      <td>37</td>\n      <td>27</td>\n      <td>Developer Experience</td>\n      <td>NaN</td>\n      <td>NaN</td>\n      <td>NaN</td>\n      <td>NaN</td>\n      <td>NaN</td>\n      <td>United Kingdom of Great Britain and Northern I...</td>\n      <td>NaN</td>\n      <td>NaN</td>\n      <td>C#</td>\n      <td>C#</td>\n      <td>C#</td>\n      <td>Firebase Realtime Database</td>\n      <td>Firebase Realtime Database</td>\n      <td>Firebase Realtime Database</td>\n      <td>Google Cloud</td>\n      <td>Google Cloud</td>\n      <td>Google Cloud</td>\n      <td>ASP.NET CORE</td>\n      <td>ASP.NET CORE</td>\n      <td>ASP.NET CORE</td>\n      <td>Rasberry Pi</td>\n      <td>Rasberry Pi</td>\n      <td>Rasberry Pi</td>\n      <td>.NET (5+) ;.NET Framework (1.0 - 4.8);.NET MAUI</td>\n      <td>.NET (5+) ;.NET Framework (1.0 - 4.8);.NET MAUI</td>\n      <td>.NET (5+) ;.NET Framework (1.0 - 4.8);.NET MAUI</td>\n      <td>MSBuild</td>\n      <td>MSBuild</td>\n      <td>MSBuild</td>\n      <td>Visual Studio</td>\n      <td>Visual Studio</td>\n      <td>Visual Studio</td>\n      <td>Windows</td>\n      <td>Windows</td>\n      <td>NaN</td>\n      <td>NaN</td>\n      <td>NaN</td>\n      <td>Google Chat;Google Meet;Microsoft Teams;Zoom</td>\n      <td>Google Chat;Google Meet;Zoom</td>\n      <td>Google Chat;Google Meet;Zoom</td>\n      <td>NaN</td>\n      <td>NaN</td>\n      <td>NaN</td>\n      <td>Stack Overflow;Stack Exchange;Stack Overflow B...</td>\n      <td>Multiple times per day</td>\n      <td>Yes</td>\n      <td>Multiple times per day</td>\n      <td>Quickly finding code solutions;Finding reliabl...</td>\n      <td>Yes, definitely</td>\n      <td>No, and I don't plan to</td>\n      <td>NaN</td>\n      <td>NaN</td>\n      <td>NaN</td>\n      <td>NaN</td>\n      <td>NaN</td>\n      <td>NaN</td>\n      <td>NaN</td>\n      <td>NaN</td>\n      <td>NaN</td>\n      <td>NaN</td>\n      <td>NaN</td>\n      <td>NaN</td>\n      <td>NaN</td>\n      <td>NaN</td>\n      <td>NaN</td>\n      <td>No</td>\n      <td>NaN</td>\n      <td>NaN</td>\n      <td>NaN</td>\n      <td>NaN</td>\n      <td>NaN</td>\n      <td>NaN</td>\n      <td>NaN</td>\n      <td>NaN</td>\n      <td>NaN</td>\n      <td>NaN</td>\n      <td>NaN</td>\n      <td>NaN</td>\n      <td>NaN</td>\n      <td>NaN</td>\n      <td>NaN</td>\n      <td>NaN</td>\n      <td>NaN</td>\n      <td>NaN</td>\n      <td>NaN</td>\n      <td>NaN</td>\n      <td>NaN</td>\n      <td>NaN</td>\n      <td>NaN</td>\n      <td>NaN</td>\n      <td>NaN</td>\n      <td>NaN</td>\n      <td>NaN</td>\n      <td>NaN</td>\n      <td>NaN</td>\n      <td>NaN</td>\n      <td>Appropriate in length</td>\n      <td>Easy</td>\n      <td>NaN</td>\n      <td>NaN</td>\n    </tr>\n    <tr>\n      <th>3</th>\n      <td>4</td>\n      <td>I am learning to code</td>\n      <td>18-24 years old</td>\n      <td>Student, full-time</td>\n      <td>NaN</td>\n      <td>Apples</td>\n      <td>NaN</td>\n      <td>Some college/university study without earning ...</td>\n      <td>Other online resources (e.g., videos, blogs, f...</td>\n      <td>Stack Overflow;How-to videos;Interactive tutorial</td>\n      <td>NaN</td>\n      <td>4</td>\n      <td>NaN</td>\n      <td>Developer, full-stack</td>\n      <td>NaN</td>\n      <td>NaN</td>\n      <td>NaN</td>\n      <td>NaN</td>\n      <td>NaN</td>\n      <td>Canada</td>\n      <td>NaN</td>\n      <td>NaN</td>\n      <td>C;C++;HTML/CSS;Java;JavaScript;PHP;PowerShell;...</td>\n      <td>HTML/CSS;Java;JavaScript;PowerShell;Python;SQL...</td>\n      <td>HTML/CSS;Java;JavaScript;PowerShell;Python;SQL...</td>\n      <td>MongoDB;MySQL;PostgreSQL;SQLite</td>\n      <td>MongoDB;MySQL;PostgreSQL</td>\n      <td>MongoDB;MySQL;PostgreSQL</td>\n      <td>Amazon Web Services (AWS);Fly.io;Heroku</td>\n      <td>Amazon Web Services (AWS);Vercel</td>\n      <td>Amazon Web Services (AWS)</td>\n      <td>jQuery;Next.js;Node.js;React;WordPress</td>\n      <td>jQuery;Next.js;Node.js;React</td>\n      <td>jQuery;Next.js;Node.js;React</td>\n      <td>Rasberry Pi</td>\n      <td>NaN</td>\n      <td>NaN</td>\n      <td>NumPy;Pandas;Ruff;TensorFlow</td>\n      <td>NaN</td>\n      <td>NaN</td>\n      <td>Docker;npm;Pip</td>\n      <td>Docker;Kubernetes;npm</td>\n      <td>Docker;npm</td>\n      <td>NaN</td>\n      <td>NaN</td>\n      <td>NaN</td>\n      <td>NaN</td>\n      <td>NaN</td>\n      <td>NaN</td>\n      <td>NaN</td>\n      <td>NaN</td>\n      <td>NaN</td>\n      <td>NaN</td>\n      <td>NaN</td>\n      <td>NaN</td>\n      <td>NaN</td>\n      <td>NaN</td>\n      <td>Stack Overflow</td>\n      <td>Daily or almost daily</td>\n      <td>No</td>\n      <td>NaN</td>\n      <td>Quickly finding code solutions</td>\n      <td>No, not really</td>\n      <td>Yes</td>\n      <td>Very favorable</td>\n      <td>Increase productivity;Greater efficiency;Impro...</td>\n      <td>Somewhat trust</td>\n      <td>Bad at handling complex tasks</td>\n      <td>Learning about a codebase;Project planning;Wri...</td>\n      <td>Testing code;Committing and reviewing code;Pre...</td>\n      <td>NaN</td>\n      <td>Learning about a codebase;Project planning;Wri...</td>\n      <td>NaN</td>\n      <td>NaN</td>\n      <td>NaN</td>\n      <td>NaN</td>\n      <td>No</td>\n      <td>Circulating misinformation or disinformation;M...</td>\n      <td>Don’t trust the output or answers</td>\n      <td>NaN</td>\n      <td>NaN</td>\n      <td>NaN</td>\n      <td>NaN</td>\n      <td>NaN</td>\n      <td>NaN</td>\n      <td>NaN</td>\n      <td>NaN</td>\n      <td>NaN</td>\n      <td>NaN</td>\n      <td>NaN</td>\n      <td>NaN</td>\n      <td>NaN</td>\n      <td>NaN</td>\n      <td>NaN</td>\n      <td>NaN</td>\n      <td>NaN</td>\n      <td>NaN</td>\n      <td>NaN</td>\n      <td>NaN</td>\n      <td>NaN</td>\n      <td>NaN</td>\n      <td>NaN</td>\n      <td>NaN</td>\n      <td>NaN</td>\n      <td>NaN</td>\n      <td>NaN</td>\n      <td>NaN</td>\n      <td>NaN</td>\n      <td>NaN</td>\n      <td>NaN</td>\n      <td>Too long</td>\n      <td>Easy</td>\n      <td>NaN</td>\n      <td>NaN</td>\n    </tr>\n    <tr>\n      <th>4</th>\n      <td>5</td>\n      <td>I am a developer by profession</td>\n      <td>18-24 years old</td>\n      <td>Student, full-time</td>\n      <td>NaN</td>\n      <td>Apples</td>\n      <td>NaN</td>\n      <td>Secondary school (e.g. American high school, G...</td>\n      <td>Other online resources (e.g., videos, blogs, f...</td>\n      <td>Technical documentation;Blogs;Written Tutorial...</td>\n      <td>API document(s) and/or SDK document(s);User gu...</td>\n      <td>9</td>\n      <td>NaN</td>\n      <td>Developer, full-stack</td>\n      <td>NaN</td>\n      <td>NaN</td>\n      <td>NaN</td>\n      <td>NaN</td>\n      <td>NaN</td>\n      <td>Norway</td>\n      <td>NaN</td>\n      <td>NaN</td>\n      <td>C++;HTML/CSS;JavaScript;Lua;Python;Rust</td>\n      <td>C++;HTML/CSS;JavaScript;Lua;Python</td>\n      <td>C++;HTML/CSS;JavaScript;Lua;Python</td>\n      <td>PostgreSQL;SQLite</td>\n      <td>PostgreSQL;SQLite</td>\n      <td>PostgreSQL;SQLite</td>\n      <td>NaN</td>\n      <td>NaN</td>\n      <td>NaN</td>\n      <td>NaN</td>\n      <td>NaN</td>\n      <td>NaN</td>\n      <td>CMake;Cargo;Rasberry Pi</td>\n      <td>CMake;Rasberry Pi</td>\n      <td>CMake;Rasberry Pi</td>\n      <td>NaN</td>\n      <td>NaN</td>\n      <td>NaN</td>\n      <td>APT;Make;npm</td>\n      <td>APT;Make</td>\n      <td>APT;Make</td>\n      <td>Vim</td>\n      <td>Vim</td>\n      <td>Vim</td>\n      <td>Other (please specify):</td>\n      <td>NaN</td>\n      <td>GitHub Discussions;Markdown File;Obsidian;Stac...</td>\n      <td>GitHub Discussions;Markdown File;Obsidian</td>\n      <td>GitHub Discussions;Markdown File;Obsidian</td>\n      <td>Discord;Whatsapp</td>\n      <td>Discord;Whatsapp</td>\n      <td>Discord;Whatsapp</td>\n      <td>NaN</td>\n      <td>NaN</td>\n      <td>NaN</td>\n      <td>Stack Overflow for Teams (private knowledge sh...</td>\n      <td>Multiple times per day</td>\n      <td>Yes</td>\n      <td>Multiple times per day</td>\n      <td>Quickly finding code solutions;Engage with com...</td>\n      <td>Yes, definitely</td>\n      <td>No, and I don't plan to</td>\n      <td>NaN</td>\n      <td>NaN</td>\n      <td>NaN</td>\n      <td>NaN</td>\n      <td>NaN</td>\n      <td>NaN</td>\n      <td>NaN</td>\n      <td>NaN</td>\n      <td>NaN</td>\n      <td>NaN</td>\n      <td>NaN</td>\n      <td>NaN</td>\n      <td>NaN</td>\n      <td>NaN</td>\n      <td>NaN</td>\n      <td>NaN</td>\n      <td>NaN</td>\n      <td>NaN</td>\n      <td>NaN</td>\n      <td>NaN</td>\n      <td>NaN</td>\n      <td>NaN</td>\n      <td>NaN</td>\n      <td>NaN</td>\n      <td>NaN</td>\n      <td>NaN</td>\n      <td>NaN</td>\n      <td>NaN</td>\n      <td>NaN</td>\n      <td>NaN</td>\n      <td>NaN</td>\n      <td>NaN</td>\n      <td>NaN</td>\n      <td>NaN</td>\n      <td>NaN</td>\n      <td>NaN</td>\n      <td>NaN</td>\n      <td>NaN</td>\n      <td>NaN</td>\n      <td>NaN</td>\n      <td>NaN</td>\n      <td>NaN</td>\n      <td>NaN</td>\n      <td>NaN</td>\n      <td>NaN</td>\n      <td>NaN</td>\n      <td>Too short</td>\n      <td>Easy</td>\n      <td>NaN</td>\n      <td>NaN</td>\n    </tr>\n  </tbody>\n</table>\n</div>"
          },
          "metadata": {}
        }
      ],
      "execution_count": 84
    },
    {
      "cell_type": "markdown",
      "source": "## Find out the number of rows and columns\n",
      "metadata": {}
    },
    {
      "cell_type": "markdown",
      "source": "Start by exploring the numbers of rows and columns of data in the dataset.\n",
      "metadata": {}
    },
    {
      "cell_type": "markdown",
      "source": "Print the number of rows in the dataset.\n",
      "metadata": {}
    },
    {
      "cell_type": "code",
      "source": "print ('Number of Rows', (len(df)))",
      "metadata": {
        "trusted": true
      },
      "outputs": [
        {
          "name": "stdout",
          "text": "Number of Rows 65437\n",
          "output_type": "stream"
        }
      ],
      "execution_count": 85
    },
    {
      "cell_type": "markdown",
      "source": "Print the number of columns in the dataset.\n",
      "metadata": {}
    },
    {
      "cell_type": "code",
      "source": "## Write your code here\nprint ('Number of Columns', (num_cols))",
      "metadata": {
        "trusted": true
      },
      "outputs": [
        {
          "name": "stdout",
          "text": "Number of Columns 114\n",
          "output_type": "stream"
        }
      ],
      "execution_count": 86
    },
    {
      "cell_type": "markdown",
      "source": "## Identify the data types of each column\n",
      "metadata": {}
    },
    {
      "cell_type": "markdown",
      "source": "Explore the dataset and identify the data types of each column.\n",
      "metadata": {}
    },
    {
      "cell_type": "markdown",
      "source": "Print the datatype of all columns.\n",
      "metadata": {}
    },
    {
      "cell_type": "code",
      "source": "# write your code here\n# There are multiple ways to do this:\n\ndf.dtypes\n\n# or \n\n# df.info(verbose=True)\n",
      "metadata": {
        "trusted": true,
        "scrolled": true
      },
      "outputs": [
        {
          "execution_count": 87,
          "output_type": "execute_result",
          "data": {
            "text/plain": "ResponseId               int64\nMainBranch              object\nAge                     object\nEmployment              object\nRemoteWork              object\n                        ...   \nJobSatPoints_11        float64\nSurveyLength            object\nSurveyEase              object\nConvertedCompYearly    float64\nJobSat                 float64\nLength: 114, dtype: object"
          },
          "metadata": {}
        }
      ],
      "execution_count": 87
    },
    {
      "cell_type": "markdown",
      "source": "Print the mean age of the survey participants.\n",
      "metadata": {}
    },
    {
      "cell_type": "code",
      "source": "## Write your code here\n\n# I tried numerous differnt ways to do this one, but looking for the mean of a column that does not actually provide an exact age, makes no sense. \n\n# Here is just an example of what I tried, but not complete. \n\n#df.age[(df.age Under 18 years old)] = df.age[(df.age 35-44 years old) & (df.age 18-24 years old)].mean()\n\n#print(df)\n#print('---')\n\n#Map each age group to a midpoint value\n\nage_map={\n    'Under 10 years old': 15,\n    '18-24 years old': 21,\n    '25-34 years old': 30,\n    '35-44 years old': 40\n}\n\n# replace strings with numeric midpoints\ndf['Age'] = df['Age'].map(age_map)\n\n",
      "metadata": {
        "trusted": true
      },
      "outputs": [
        {
          "name": "stdout",
          "text": "nan\n",
          "output_type": "stream"
        }
      ],
      "execution_count": 94
    },
    {
      "cell_type": "markdown",
      "source": "The dataset is the result of a world wide survey. Print how many unique countries are there in the Country column.\n",
      "metadata": {}
    },
    {
      "cell_type": "code",
      "source": "## Write your code here\n\n# I cannot find the countries column\n# Is there even a column for country? Every time I try to find anything related to 'country' I get an erorr message\n\nprint('Number of Unique Countries : ', len(df['Country'].unique()))",
      "metadata": {
        "trusted": true
      },
      "outputs": [
        {
          "name": "stdout",
          "text": "Number of Unique Countries :  186\n",
          "output_type": "stream"
        }
      ],
      "execution_count": 91
    },
    {
      "cell_type": "markdown",
      "source": "Copyright ©  IBM Corporation. All rights reserved.\n",
      "metadata": {}
    },
    {
      "cell_type": "code",
      "source": "",
      "metadata": {
        "trusted": true
      },
      "outputs": [],
      "execution_count": null
    },
    {
      "cell_type": "code",
      "source": "",
      "metadata": {
        "trusted": true
      },
      "outputs": [],
      "execution_count": null
    }
  ]
}